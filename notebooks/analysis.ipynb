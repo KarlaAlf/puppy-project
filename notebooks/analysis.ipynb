{
 "cells": [
  {
   "cell_type": "code",
   "execution_count": 5,
   "metadata": {},
   "outputs": [],
   "source": [
    "import numpy as np\n",
    "import matplotlib.pyplot as plt\n",
    "import h5py as h5\n",
    "import os\n",
    "import glob\n",
    "from os import walk\n",
    "from mpl_toolkits.mplot3d import Axes3D\n",
    "from matplotlib.gridspec import GridSpec\n",
    "from IPython.display import display, clear_output\n",
    "from labexp import experiments\n",
    "from mpl_toolkits.axes_grid1 import make_axes_locatable,ImageGrid\n",
    "from mpl_toolkits.axes_grid1 import AxesGrid\n",
    "from matplotlib.gridspec import GridSpec\n",
    "plt.style.use('/media/labfiles/lab-codes/plot-styles/plotstyle.mplstyle')\n",
    "exp= experiments('nano-lab','afm','grating_InP',False)\n"
   ]
  },
  {
   "cell_type": "code",
   "execution_count": 11,
   "metadata": {},
   "outputs": [
    {
     "data": {
      "text/plain": [
       "['grating_InP/exp_2021-11/exp_04-11_afm',\n",
       " 'grating_InP/exp_2021-11/exp_06-11_afm',\n",
       " 'grating_InP/exp_2022-01/exp_2022_13_01_afm',\n",
       " 'grating_InP/exp_2022-01/exp_2022_14_01_afm',\n",
       " 'grating_InP/exp_2022-01/exp_2022_19_01_afm',\n",
       " 'grating_InP/exp_2022-03/exp_2022_19_03_afm',\n",
       " 'grating_InP/exp_2022-03/exp_2022_21_03_afm',\n",
       " 'grating_InP/exp_2022-03/exp_2022_22_03_afm',\n",
       " 'grating_InP/exp_2022-03/exp_2022_24_03_afm',\n",
       " 'grating_InP/exp_2022-03/exp_2022_26_03_afm',\n",
       " 'grating_InP/exp_2022-03/exp_2022_28_03_afm',\n",
       " 'grating_InP/exp_2022-03/exp_2022_30_03_afm',\n",
       " 'grating_InP/exp_2022-03/exp_2022_31_03_afm',\n",
       " 'grating_InP/exp_2022-04/exp_2022_01_04_afm',\n",
       " 'grating_InP/exp_2022-04/exp_2022_02_04_afm',\n",
       " 'grating_InP/exp_2022-04/exp_2022_03_04_afm',\n",
       " 'grating_InP/exp_2022-04/exp_2022_05_04_afm',\n",
       " 'grating_InP/exp_2022-04/exp_2022_06_04_afm',\n",
       " 'grating_InP/exp_2022-04/exp_2022_07_04_afm',\n",
       " 'grating_InP/exp_2022-04/exp_2022_08_04_afm',\n",
       " 'grating_InP/exp_2022-04/exp_2022_09_04_afm',\n",
       " 'grating_InP/exp_2022-04/exp_2022_10_04_afm',\n",
       " 'grating_InP/exp_2022-04/exp_2022_11_04_afm',\n",
       " 'grating_InP/exp_2022-09/exp_2022_8_09_afm',\n",
       " 'grating_InP/exp_2022-09/exp_2022_9_09_afm']"
      ]
     },
     "execution_count": 11,
     "metadata": {},
     "output_type": "execute_result"
    }
   ],
   "source": [
    "from itertools import count\n",
    "count=0\n",
    "for i in exp.dframe['Name Dir'].tolist():\n",
    "    if i == exp.dframe['Name Dir'].tolist()[3]:\n",
    "        break\n",
    "    else:\n",
    "        count+=1\n",
    "\n",
    "count\n",
    "exp.dframe['Name Dir'].tolist()\n",
    "\n"
   ]
  },
  {
   "cell_type": "code",
   "execution_count": 3,
   "metadata": {},
   "outputs": [],
   "source": [
    "from flask import url_for\n"
   ]
  }
 ],
 "metadata": {
  "kernelspec": {
   "display_name": "Python 3.10.4 ('analysis')",
   "language": "python",
   "name": "python3"
  },
  "language_info": {
   "codemirror_mode": {
    "name": "ipython",
    "version": 3
   },
   "file_extension": ".py",
   "mimetype": "text/x-python",
   "name": "python",
   "nbconvert_exporter": "python",
   "pygments_lexer": "ipython3",
   "version": "3.10.4"
  },
  "orig_nbformat": 4,
  "vscode": {
   "interpreter": {
    "hash": "df25c19a347952bfe2454233f6a75c22b3faf5a612c0c19bb8226f0bd8aea55f"
   }
  }
 },
 "nbformat": 4,
 "nbformat_minor": 2
}
