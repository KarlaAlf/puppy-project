{
 "cells": [
  {
   "cell_type": "code",
   "execution_count": null,
   "metadata": {},
   "outputs": [],
   "source": [
    "import numpy as np\n",
    "import matplotlib.pyplot as plt\n",
    "import h5py as h5\n",
    "import os\n",
    "import glob\n",
    "from os import walk\n",
    "from matplotlib.gridspec import GridSpec\n",
    "from IPython.display import display, clear_output\n",
    "from nano_lab import experiments\n",
    "from mpl_toolkits.axes_grid1 import make_axes_locatable,ImageGrid\n",
    "from matplotlib.gridspec import GridSpec\n",
    "import matplotlib as mpl\n",
    "mpl.rcParams.update(mpl.rcParamsDefault)\n",
    "plt.style.use('../src/plotstyle.mplstyle')\n",
    "exp= experiments('nano-lab','nsom','fg163r',False)\n",
    "exp.dframe"
   ]
  },
  {
   "cell_type": "code",
   "execution_count": null,
   "metadata": {},
   "outputs": [],
   "source": [
    "sample='fg163r'\n",
    "dsets = []\n",
    "h5path= []\n",
    "alldata=[]\n",
    "ptable=[]\n",
    "measures=[]\n",
    "count=0\n",
    "path='/media/labfiles/lab-exps/nano-lab/'\n",
    "for (dirpath, dirnames, filenames) in walk(path):\n",
    "    if sample in dirpath:\n",
    "        for name in sorted(glob.glob(dirpath+'/*.h5')):\n",
    "            if 'nsom' in name:\n",
    "                datac=[]\n",
    "                measures.append(name.split('/')[-1])\n",
    "                h5path.append(name)\n",
    "                opendat = h5.File(name,'r')\n",
    "                for iset in opendat.keys():\n",
    "                    dsets.append(iset)\n",
    "                    for jset in opendat[iset].keys():\n",
    "                        datac.append(np.array(opendat[iset][jset]))\n",
    "            alldata.append(datac)\n",
    "            ptable.append([count,name.split('/')[-1]])\n",
    "            count+=1              \n",
    "                    \n"
   ]
  },
  {
   "cell_type": "code",
   "execution_count": null,
   "metadata": {},
   "outputs": [],
   "source": [
    "from matplotlib import cm\n",
    "from mpl_toolkits.mplot3d import axes3d\n",
    "from matplotlib.ticker import (MultipleLocator, AutoMinorLocator)\n",
    "import matplotlib.gridspec as gridspec\n",
    "import matplotlib.animation as animation\n",
    "import math\n",
    "import warnings\n",
    "warnings.filterwarnings(\"ignore\")\n",
    "\n",
    "\n",
    "class afm_nsom:\n",
    "    def __init__(self,alldata,measure):\n",
    "        self.alldata=alldata\n",
    "        self.measure = measure\n",
    "        self.afm_nsom_data = self.alldata[self.measure][0]\n",
    "        self.amplitud = self.alldata[self.measure][1]\n",
    "        self.fase = self.alldata[self.measure][2]\n",
    "        self.xi=0;self.xf=self.afm_nsom_data.shape[1]\n",
    "        self.yi=0;self.yf=self.afm_nsom_data.shape[0]\n",
    "        self.afm         = self.afm_nsom_data[:,:,0]\n",
    "        self.lockin      =  self.afm_nsom_data[:,:,1]\n",
    "        self.multimeter  =  self.afm_nsom_data[:,:,2]\n",
    "\n",
    "\n",
    "exptoanalysis =afm_nsom(exp.data,0)\n",
    "afm    = exptoanalysis.afm\n",
    "lockin =  exptoanalysis.lockin\n",
    "multimeter =  exptoanalysis.multimeter\n",
    "nx, ny = afm.shape[1], afm.shape[0]\n",
    "x, y = np.meshgrid(np.arange(0, nx, 1), np.arange(0, ny, 1))\n",
    "\n",
    "\n",
    "plt.rcParams['xtick.labelsize']     = 11\n",
    "plt.rcParams['ytick.labelsize']     = 11\n",
    "plt.rcParams['text.usetex'] = True\n",
    "plt.rcParams['axes.labelpad'] = 5\n",
    "\n",
    "def new_axislabels(ax,step):\n",
    "    newlabels=[labels*step for labels in ax.get_xticks().tolist()]\n",
    "    return newlabels\n",
    "\n",
    "fig = plt.figure(figsize=(15,7))\n",
    "G = gridspec.GridSpec(1, 3, wspace=0.07)# ax1 = fig.add_subplot(121, projection='3d')\n",
    "# ax2 = fig.add_subplot(122)\n",
    "ax1 = fig.add_subplot(G[0,0], projection='3d')\n",
    "ax2 = fig.add_subplot(G[0,1], projection='3d')\n",
    "ax3 = fig.add_subplot(G[0,2], projection='3d')\n",
    "# fig.patch.set_visible(False)\n",
    "\n",
    "\n",
    "\n",
    "def plotexps(ax1,ax2,ax3,afm,lockin,multimeter,line,comap,**kwargs):\n",
    "    ax1.clear()\n",
    "    surf=ax1.plot_surface(x, y,afm,cmap=comap,rstride=1, cstride=1, lw=1,  antialiased=True, shade=False,alpha=0.5)\n",
    "    ax1.contourf(x, y,afm,zdir='z',cmap=comap,offset=afm.min()-2000,normalize=\"log\",origin=\"lower\")\n",
    "    ax1.plot(x[:,line],y[:,line],afm[:,line],':b',lw=2)\n",
    "    ax1.plot(x[line,:],y[line,:],afm[line,:],':r',lw=2)\n",
    "    ax1.plot(y[:,line], afm[:,line], zs=x.max(), zdir='x', lw = 1.5, color = 'b')\n",
    "    ax1.plot(x[line,:], afm[line,:], zs=x.min(), zdir='y', lw = 1.5, color = 'r')\n",
    "    ax1.set_zlim([afm.min()-2000,afm.max()])\n",
    "    ax1.set_title(\"AFM\",fontsize=15)\n",
    "\n",
    "    ax2.clear()\n",
    "    lockinmin = lockin.min()-(lockin.min()/10)\n",
    "    surf2=ax2.plot_surface(x, y,lockin,cmap=comap, rstride=1, cstride=1, lw=1, antialiased=True, shade=False,alpha=0.5)\n",
    "    ax2.contourf(x, y,lockin,zdir='z',cmap=comap,offset=lockinmin,normalize=\"log\",origin=\"lower\")\n",
    "    ax2.plot(x[:,line],y[:,line],lockin[:,line],':b',lw=2)\n",
    "    ax2.plot(x[line,:],y[line,:],lockin[line,:],':r',lw=2)\n",
    "    ax2.plot(y[:,line], lockin[:,line], zs=x.max(), zdir='x', lw = 1.5, color = 'b')\n",
    "    ax2.plot(x[line,:], lockin[line,:], zs=x.min(), zdir='y', lw = 1.5, color = 'r')\n",
    "    ax2.set_zlim([lockinmin,lockin.max()])\n",
    "    ax2.set_title(\"Lock-in\",fontsize=15)\n",
    "\n",
    "    ax3.clear()\n",
    "    multimetermin = multimeter.min()+(multimeter.min()/10)\n",
    "    surf3=ax3.plot_surface(x, y,multimeter,cmap=comap, rstride=1, cstride=1, lw=1, antialiased=True, shade=False,alpha=0.5)\n",
    "    ax3.contourf(x, y,multimeter,zdir='z',cmap=comap,offset=multimetermin,normalize=\"log\",origin=\"lower\")\n",
    "    ax3.plot(x[:,line],y[:,line],multimeter[:,line],':b',lw=2)\n",
    "    ax3.plot(x[line,:],y[line,:],multimeter[line,:],':r',lw=2)\n",
    "    ax3.plot(y[:,line], multimeter[:,line], zs=x.max(), zdir='x', lw = 1.5, color = 'b')\n",
    "    ax3.plot(x[line,:], multimeter[line,:], zs=x.min(), zdir='y', lw = 1.5, color = 'r')\n",
    "    ax3.set_zlim([multimetermin,multimeter.max()])\n",
    "    ax3.set_title(\"Multimeter\",fontsize=15)\n",
    "\n",
    "    for axs in fig.axes:\n",
    "        axs.set_xlim(0.,16.)\n",
    "        axs.set_ylim(0.,16.)\n",
    "        axs.set_box_aspect((1, 1, 1))\n",
    "        axs.grid(False)\n",
    "        axs.set_xlabel(r'$x$',fontsize=15)\n",
    "        axs.set_ylabel(r'$y$',fontsize=15)\n",
    "        axs.locator_params(axis='x', nbins=5)\n",
    "        axs.locator_params(axis='y', nbins=5)\n",
    "        newlabels = new_axislabels(axs,250)\n",
    "        axs.set_xticklabels(newlabels)\n",
    "        axs.set_yticklabels(newlabels)\n",
    "        axs.view_init(elev=35, azim=160)\n",
    "        #axs.ticklabel_format(style='sci',axis='z',scilimits=(0,0))\n",
    "        for axis in [axs.w_xaxis, axs.w_yaxis, axs.w_zaxis]:\n",
    "            axis.line.set_linewidth(1)\n",
    "            axis.pane.set_edgecolor('#000000')\n",
    "            axis.pane.set_linewidth(1)\n",
    "            axis.pane.set_alpha(1) \n",
    "    return fig\n",
    "    \n",
    "def animate(frame):\n",
    "    clear_output(wait=True)\n",
    "    print(\"Run Frame No. :\",frame)\n",
    "    return plotexps(ax1,ax2,ax3,afm,lockin,multimeter,frame,\"cool\")\n",
    "\n",
    "\n",
    "animation = animation.FuncAnimation(fig,animate,frames=np.arange(0,16)[::-1])\n",
    "\n",
    "animate(10)\n",
    "\n"
   ]
  },
  {
   "cell_type": "code",
   "execution_count": null,
   "metadata": {},
   "outputs": [],
   "source": [
    "%%time\n",
    "\n",
    "animation.save('puppy2.mp4',  writer=\"ffmpeg\",fps=4,progress_callback = lambda i, n:print(f'Saving frame {i} of {n}'))\n",
    " #animation.save('SLIT3D.gif',writer='imagemagick',fps=10,dpi=100,progress_callback = lambda i, n: print(f'Saving frame {i} of {n}'))n: print(f'Saving frame {i} of {n}'))"
   ]
  },
  {
   "cell_type": "code",
   "execution_count": null,
   "metadata": {},
   "outputs": [],
   "source": [
    "plt.rcParams[\"animation.html\"] = \"jshtml\"\n",
    "animation"
   ]
  },
  {
   "cell_type": "code",
   "execution_count": 48,
   "metadata": {},
   "outputs": [
    {
     "data": {
      "application/vnd.plotly.v1+json": {
       "config": {
        "plotlyServerURL": "https://plot.ly"
       },
       "data": [
        {
         "colorscale": [
          [
           0,
           "rgb(247,251,255)"
          ],
          [
           0.125,
           "rgb(222,235,247)"
          ],
          [
           0.25,
           "rgb(198,219,239)"
          ],
          [
           0.375,
           "rgb(158,202,225)"
          ],
          [
           0.5,
           "rgb(107,174,214)"
          ],
          [
           0.625,
           "rgb(66,146,198)"
          ],
          [
           0.75,
           "rgb(33,113,181)"
          ],
          [
           0.875,
           "rgb(8,81,156)"
          ],
          [
           1,
           "rgb(8,48,107)"
          ]
         ],
         "contours": {
          "z": {
           "highlightcolor": "limegreen",
           "project": {
            "z": true
           },
           "show": true,
           "usecolormap": true
          }
         },
         "type": "surface",
         "z": [
          [
           8602,
           8752,
           8952,
           9153,
           9452,
           9752,
           10052,
           10352,
           10752,
           11202,
           11602,
           12002,
           12302,
           12653,
           13052,
           13502,
           14002
          ],
          [
           14352,
           14752,
           15252,
           16002,
           16652,
           17402,
           18102,
           18852,
           19502,
           19652,
           20002,
           20102,
           20102,
           20052,
           19952,
           19852,
           19752
          ],
          [
           19552,
           19502,
           19502,
           19402,
           19302,
           19202,
           19102,
           19052,
           18952,
           18902,
           18852,
           18802,
           18752,
           18702,
           18652,
           18602,
           18552
          ],
          [
           18402,
           18302,
           18252,
           18202,
           18152,
           18102,
           18102,
           18002,
           17952,
           17902,
           17802,
           17752,
           17652,
           17553,
           17502,
           17402,
           17352
          ],
          [
           17052,
           17002,
           16902,
           16802,
           16752,
           16702,
           16652,
           16602,
           16602,
           16552,
           16552,
           16502,
           16452,
           16402,
           16352,
           16302,
           16252
          ],
          [
           16102,
           16052,
           16052,
           15952,
           15952,
           15952,
           15953,
           16052,
           16152,
           16302,
           16502,
           16652,
           16902,
           17103,
           17302,
           17552,
           17802
          ],
          [
           17852,
           18102,
           18302,
           18602,
           18902,
           19102,
           19202,
           19202,
           19202,
           19252,
           19302,
           19302,
           19302,
           19352,
           19352,
           19352,
           19352
          ],
          [
           19202,
           19152,
           19102,
           19002,
           18902,
           18752,
           18602,
           18452,
           18302,
           18202,
           18102,
           18002,
           17902,
           17802,
           17752,
           17652,
           17602
          ],
          [
           17402,
           17352,
           17302,
           17252,
           17202,
           17152,
           17102,
           17052,
           17002,
           16952,
           16952,
           16853,
           16852,
           16802,
           16752,
           16652,
           16552
          ],
          [
           16302,
           16252,
           16502,
           16502,
           16452,
           16402,
           16352,
           16302,
           16252,
           16252,
           16252,
           16202,
           16252,
           16252,
           16302,
           16352,
           16402
          ],
          [
           16302,
           16352,
           16402,
           16452,
           16552,
           16602,
           16652,
           16702,
           16752,
           16802,
           16852,
           16902,
           16952,
           17003,
           17052,
           17052,
           17102
          ],
          [
           16952,
           16952,
           17002,
           17052,
           17102,
           17152,
           17202,
           17252,
           17252,
           17153,
           17102,
           16952,
           16852,
           16752,
           16652,
           16602,
           16502
          ],
          [
           16202,
           16102,
           15952,
           15852,
           15752,
           15602,
           15452,
           15302,
           15152,
           14952,
           14802,
           14652,
           14502,
           14352,
           14252,
           14102,
           13953
          ],
          [
           13702,
           13602,
           13502,
           13402,
           13302,
           13202,
           13102,
           13003,
           12952,
           12852,
           12802,
           12702,
           12602,
           12502,
           12403,
           12352,
           12202
          ],
          [
           11952,
           11902,
           11803,
           11802,
           11703,
           11652,
           11602,
           11503,
           11452,
           11402,
           11352,
           11253,
           11202,
           11153,
           11102,
           11052,
           11002
          ],
          [
           10802,
           10752,
           10703,
           10652,
           10602,
           10552,
           10552,
           10502,
           10502,
           10502,
           10502,
           10502,
           10502,
           10502,
           10503,
           10552,
           10552
          ],
          [
           10402,
           10402,
           10402,
           10402,
           10403,
           10452,
           10452,
           10452,
           10452,
           10502,
           10502,
           10502,
           10503,
           10552,
           10552,
           10602,
           10602
          ]
         ]
        }
       ],
       "layout": {
        "autosize": false,
        "height": 700,
        "margin": {
         "b": 65,
         "l": 65,
         "r": 50,
         "t": 90
        },
        "template": {
         "data": {
          "bar": [
           {
            "error_x": {
             "color": "#2a3f5f"
            },
            "error_y": {
             "color": "#2a3f5f"
            },
            "marker": {
             "line": {
              "color": "#E5ECF6",
              "width": 0.5
             },
             "pattern": {
              "fillmode": "overlay",
              "size": 10,
              "solidity": 0.2
             }
            },
            "type": "bar"
           }
          ],
          "barpolar": [
           {
            "marker": {
             "line": {
              "color": "#E5ECF6",
              "width": 0.5
             },
             "pattern": {
              "fillmode": "overlay",
              "size": 10,
              "solidity": 0.2
             }
            },
            "type": "barpolar"
           }
          ],
          "carpet": [
           {
            "aaxis": {
             "endlinecolor": "#2a3f5f",
             "gridcolor": "white",
             "linecolor": "white",
             "minorgridcolor": "white",
             "startlinecolor": "#2a3f5f"
            },
            "baxis": {
             "endlinecolor": "#2a3f5f",
             "gridcolor": "white",
             "linecolor": "white",
             "minorgridcolor": "white",
             "startlinecolor": "#2a3f5f"
            },
            "type": "carpet"
           }
          ],
          "choropleth": [
           {
            "colorbar": {
             "outlinewidth": 0,
             "ticks": ""
            },
            "type": "choropleth"
           }
          ],
          "contour": [
           {
            "colorbar": {
             "outlinewidth": 0,
             "ticks": ""
            },
            "colorscale": [
             [
              0,
              "#0d0887"
             ],
             [
              0.1111111111111111,
              "#46039f"
             ],
             [
              0.2222222222222222,
              "#7201a8"
             ],
             [
              0.3333333333333333,
              "#9c179e"
             ],
             [
              0.4444444444444444,
              "#bd3786"
             ],
             [
              0.5555555555555556,
              "#d8576b"
             ],
             [
              0.6666666666666666,
              "#ed7953"
             ],
             [
              0.7777777777777778,
              "#fb9f3a"
             ],
             [
              0.8888888888888888,
              "#fdca26"
             ],
             [
              1,
              "#f0f921"
             ]
            ],
            "type": "contour"
           }
          ],
          "contourcarpet": [
           {
            "colorbar": {
             "outlinewidth": 0,
             "ticks": ""
            },
            "type": "contourcarpet"
           }
          ],
          "heatmap": [
           {
            "colorbar": {
             "outlinewidth": 0,
             "ticks": ""
            },
            "colorscale": [
             [
              0,
              "#0d0887"
             ],
             [
              0.1111111111111111,
              "#46039f"
             ],
             [
              0.2222222222222222,
              "#7201a8"
             ],
             [
              0.3333333333333333,
              "#9c179e"
             ],
             [
              0.4444444444444444,
              "#bd3786"
             ],
             [
              0.5555555555555556,
              "#d8576b"
             ],
             [
              0.6666666666666666,
              "#ed7953"
             ],
             [
              0.7777777777777778,
              "#fb9f3a"
             ],
             [
              0.8888888888888888,
              "#fdca26"
             ],
             [
              1,
              "#f0f921"
             ]
            ],
            "type": "heatmap"
           }
          ],
          "heatmapgl": [
           {
            "colorbar": {
             "outlinewidth": 0,
             "ticks": ""
            },
            "colorscale": [
             [
              0,
              "#0d0887"
             ],
             [
              0.1111111111111111,
              "#46039f"
             ],
             [
              0.2222222222222222,
              "#7201a8"
             ],
             [
              0.3333333333333333,
              "#9c179e"
             ],
             [
              0.4444444444444444,
              "#bd3786"
             ],
             [
              0.5555555555555556,
              "#d8576b"
             ],
             [
              0.6666666666666666,
              "#ed7953"
             ],
             [
              0.7777777777777778,
              "#fb9f3a"
             ],
             [
              0.8888888888888888,
              "#fdca26"
             ],
             [
              1,
              "#f0f921"
             ]
            ],
            "type": "heatmapgl"
           }
          ],
          "histogram": [
           {
            "marker": {
             "pattern": {
              "fillmode": "overlay",
              "size": 10,
              "solidity": 0.2
             }
            },
            "type": "histogram"
           }
          ],
          "histogram2d": [
           {
            "colorbar": {
             "outlinewidth": 0,
             "ticks": ""
            },
            "colorscale": [
             [
              0,
              "#0d0887"
             ],
             [
              0.1111111111111111,
              "#46039f"
             ],
             [
              0.2222222222222222,
              "#7201a8"
             ],
             [
              0.3333333333333333,
              "#9c179e"
             ],
             [
              0.4444444444444444,
              "#bd3786"
             ],
             [
              0.5555555555555556,
              "#d8576b"
             ],
             [
              0.6666666666666666,
              "#ed7953"
             ],
             [
              0.7777777777777778,
              "#fb9f3a"
             ],
             [
              0.8888888888888888,
              "#fdca26"
             ],
             [
              1,
              "#f0f921"
             ]
            ],
            "type": "histogram2d"
           }
          ],
          "histogram2dcontour": [
           {
            "colorbar": {
             "outlinewidth": 0,
             "ticks": ""
            },
            "colorscale": [
             [
              0,
              "#0d0887"
             ],
             [
              0.1111111111111111,
              "#46039f"
             ],
             [
              0.2222222222222222,
              "#7201a8"
             ],
             [
              0.3333333333333333,
              "#9c179e"
             ],
             [
              0.4444444444444444,
              "#bd3786"
             ],
             [
              0.5555555555555556,
              "#d8576b"
             ],
             [
              0.6666666666666666,
              "#ed7953"
             ],
             [
              0.7777777777777778,
              "#fb9f3a"
             ],
             [
              0.8888888888888888,
              "#fdca26"
             ],
             [
              1,
              "#f0f921"
             ]
            ],
            "type": "histogram2dcontour"
           }
          ],
          "mesh3d": [
           {
            "colorbar": {
             "outlinewidth": 0,
             "ticks": ""
            },
            "type": "mesh3d"
           }
          ],
          "parcoords": [
           {
            "line": {
             "colorbar": {
              "outlinewidth": 0,
              "ticks": ""
             }
            },
            "type": "parcoords"
           }
          ],
          "pie": [
           {
            "automargin": true,
            "type": "pie"
           }
          ],
          "scatter": [
           {
            "fillpattern": {
             "fillmode": "overlay",
             "size": 10,
             "solidity": 0.2
            },
            "type": "scatter"
           }
          ],
          "scatter3d": [
           {
            "line": {
             "colorbar": {
              "outlinewidth": 0,
              "ticks": ""
             }
            },
            "marker": {
             "colorbar": {
              "outlinewidth": 0,
              "ticks": ""
             }
            },
            "type": "scatter3d"
           }
          ],
          "scattercarpet": [
           {
            "marker": {
             "colorbar": {
              "outlinewidth": 0,
              "ticks": ""
             }
            },
            "type": "scattercarpet"
           }
          ],
          "scattergeo": [
           {
            "marker": {
             "colorbar": {
              "outlinewidth": 0,
              "ticks": ""
             }
            },
            "type": "scattergeo"
           }
          ],
          "scattergl": [
           {
            "marker": {
             "colorbar": {
              "outlinewidth": 0,
              "ticks": ""
             }
            },
            "type": "scattergl"
           }
          ],
          "scattermapbox": [
           {
            "marker": {
             "colorbar": {
              "outlinewidth": 0,
              "ticks": ""
             }
            },
            "type": "scattermapbox"
           }
          ],
          "scatterpolar": [
           {
            "marker": {
             "colorbar": {
              "outlinewidth": 0,
              "ticks": ""
             }
            },
            "type": "scatterpolar"
           }
          ],
          "scatterpolargl": [
           {
            "marker": {
             "colorbar": {
              "outlinewidth": 0,
              "ticks": ""
             }
            },
            "type": "scatterpolargl"
           }
          ],
          "scatterternary": [
           {
            "marker": {
             "colorbar": {
              "outlinewidth": 0,
              "ticks": ""
             }
            },
            "type": "scatterternary"
           }
          ],
          "surface": [
           {
            "colorbar": {
             "outlinewidth": 0,
             "ticks": ""
            },
            "colorscale": [
             [
              0,
              "#0d0887"
             ],
             [
              0.1111111111111111,
              "#46039f"
             ],
             [
              0.2222222222222222,
              "#7201a8"
             ],
             [
              0.3333333333333333,
              "#9c179e"
             ],
             [
              0.4444444444444444,
              "#bd3786"
             ],
             [
              0.5555555555555556,
              "#d8576b"
             ],
             [
              0.6666666666666666,
              "#ed7953"
             ],
             [
              0.7777777777777778,
              "#fb9f3a"
             ],
             [
              0.8888888888888888,
              "#fdca26"
             ],
             [
              1,
              "#f0f921"
             ]
            ],
            "type": "surface"
           }
          ],
          "table": [
           {
            "cells": {
             "fill": {
              "color": "#EBF0F8"
             },
             "line": {
              "color": "white"
             }
            },
            "header": {
             "fill": {
              "color": "#C8D4E3"
             },
             "line": {
              "color": "white"
             }
            },
            "type": "table"
           }
          ]
         },
         "layout": {
          "annotationdefaults": {
           "arrowcolor": "#2a3f5f",
           "arrowhead": 0,
           "arrowwidth": 1
          },
          "autotypenumbers": "strict",
          "coloraxis": {
           "colorbar": {
            "outlinewidth": 0,
            "ticks": ""
           }
          },
          "colorscale": {
           "diverging": [
            [
             0,
             "#8e0152"
            ],
            [
             0.1,
             "#c51b7d"
            ],
            [
             0.2,
             "#de77ae"
            ],
            [
             0.3,
             "#f1b6da"
            ],
            [
             0.4,
             "#fde0ef"
            ],
            [
             0.5,
             "#f7f7f7"
            ],
            [
             0.6,
             "#e6f5d0"
            ],
            [
             0.7,
             "#b8e186"
            ],
            [
             0.8,
             "#7fbc41"
            ],
            [
             0.9,
             "#4d9221"
            ],
            [
             1,
             "#276419"
            ]
           ],
           "sequential": [
            [
             0,
             "#0d0887"
            ],
            [
             0.1111111111111111,
             "#46039f"
            ],
            [
             0.2222222222222222,
             "#7201a8"
            ],
            [
             0.3333333333333333,
             "#9c179e"
            ],
            [
             0.4444444444444444,
             "#bd3786"
            ],
            [
             0.5555555555555556,
             "#d8576b"
            ],
            [
             0.6666666666666666,
             "#ed7953"
            ],
            [
             0.7777777777777778,
             "#fb9f3a"
            ],
            [
             0.8888888888888888,
             "#fdca26"
            ],
            [
             1,
             "#f0f921"
            ]
           ],
           "sequentialminus": [
            [
             0,
             "#0d0887"
            ],
            [
             0.1111111111111111,
             "#46039f"
            ],
            [
             0.2222222222222222,
             "#7201a8"
            ],
            [
             0.3333333333333333,
             "#9c179e"
            ],
            [
             0.4444444444444444,
             "#bd3786"
            ],
            [
             0.5555555555555556,
             "#d8576b"
            ],
            [
             0.6666666666666666,
             "#ed7953"
            ],
            [
             0.7777777777777778,
             "#fb9f3a"
            ],
            [
             0.8888888888888888,
             "#fdca26"
            ],
            [
             1,
             "#f0f921"
            ]
           ]
          },
          "colorway": [
           "#636efa",
           "#EF553B",
           "#00cc96",
           "#ab63fa",
           "#FFA15A",
           "#19d3f3",
           "#FF6692",
           "#B6E880",
           "#FF97FF",
           "#FECB52"
          ],
          "font": {
           "color": "#2a3f5f"
          },
          "geo": {
           "bgcolor": "white",
           "lakecolor": "white",
           "landcolor": "#E5ECF6",
           "showlakes": true,
           "showland": true,
           "subunitcolor": "white"
          },
          "hoverlabel": {
           "align": "left"
          },
          "hovermode": "closest",
          "mapbox": {
           "style": "light"
          },
          "paper_bgcolor": "white",
          "plot_bgcolor": "#E5ECF6",
          "polar": {
           "angularaxis": {
            "gridcolor": "white",
            "linecolor": "white",
            "ticks": ""
           },
           "bgcolor": "#E5ECF6",
           "radialaxis": {
            "gridcolor": "white",
            "linecolor": "white",
            "ticks": ""
           }
          },
          "scene": {
           "xaxis": {
            "backgroundcolor": "#E5ECF6",
            "gridcolor": "white",
            "gridwidth": 2,
            "linecolor": "white",
            "showbackground": true,
            "ticks": "",
            "zerolinecolor": "white"
           },
           "yaxis": {
            "backgroundcolor": "#E5ECF6",
            "gridcolor": "white",
            "gridwidth": 2,
            "linecolor": "white",
            "showbackground": true,
            "ticks": "",
            "zerolinecolor": "white"
           },
           "zaxis": {
            "backgroundcolor": "#E5ECF6",
            "gridcolor": "white",
            "gridwidth": 2,
            "linecolor": "white",
            "showbackground": true,
            "ticks": "",
            "zerolinecolor": "white"
           }
          },
          "shapedefaults": {
           "line": {
            "color": "#2a3f5f"
           }
          },
          "ternary": {
           "aaxis": {
            "gridcolor": "white",
            "linecolor": "white",
            "ticks": ""
           },
           "baxis": {
            "gridcolor": "white",
            "linecolor": "white",
            "ticks": ""
           },
           "bgcolor": "#E5ECF6",
           "caxis": {
            "gridcolor": "white",
            "linecolor": "white",
            "ticks": ""
           }
          },
          "title": {
           "x": 0.05
          },
          "xaxis": {
           "automargin": true,
           "gridcolor": "white",
           "linecolor": "white",
           "ticks": "",
           "title": {
            "standoff": 15
           },
           "zerolinecolor": "white",
           "zerolinewidth": 2
          },
          "yaxis": {
           "automargin": true,
           "gridcolor": "white",
           "linecolor": "white",
           "ticks": "",
           "title": {
            "standoff": 15
           },
           "zerolinecolor": "white",
           "zerolinewidth": 2
          }
         }
        },
        "title": {
         "text": "AFM"
        },
        "width": 700
       }
      },
      "text/html": [
       "<div>                            <div id=\"ef4cd4d7-8992-4cd9-8663-ec251e6d0bf7\" class=\"plotly-graph-div\" style=\"height:700px; width:700px;\"></div>            <script type=\"text/javascript\">                require([\"plotly\"], function(Plotly) {                    window.PLOTLYENV=window.PLOTLYENV || {};                                    if (document.getElementById(\"ef4cd4d7-8992-4cd9-8663-ec251e6d0bf7\")) {                    Plotly.newPlot(                        \"ef4cd4d7-8992-4cd9-8663-ec251e6d0bf7\",                        [{\"colorscale\":[[0.0,\"rgb(247,251,255)\"],[0.125,\"rgb(222,235,247)\"],[0.25,\"rgb(198,219,239)\"],[0.375,\"rgb(158,202,225)\"],[0.5,\"rgb(107,174,214)\"],[0.625,\"rgb(66,146,198)\"],[0.75,\"rgb(33,113,181)\"],[0.875,\"rgb(8,81,156)\"],[1.0,\"rgb(8,48,107)\"]],\"z\":[[8602.0,8752.0,8952.0,9153.0,9452.0,9752.0,10052.0,10352.0,10752.0,11202.0,11602.0,12002.0,12302.0,12653.0,13052.0,13502.0,14002.0],[14352.0,14752.0,15252.0,16002.0,16652.0,17402.0,18102.0,18852.0,19502.0,19652.0,20002.0,20102.0,20102.0,20052.0,19952.0,19852.0,19752.0],[19552.0,19502.0,19502.0,19402.0,19302.0,19202.0,19102.0,19052.0,18952.0,18902.0,18852.0,18802.0,18752.0,18702.0,18652.0,18602.0,18552.0],[18402.0,18302.0,18252.0,18202.0,18152.0,18102.0,18102.0,18002.0,17952.0,17902.0,17802.0,17752.0,17652.0,17553.0,17502.0,17402.0,17352.0],[17052.0,17002.0,16902.0,16802.0,16752.0,16702.0,16652.0,16602.0,16602.0,16552.0,16552.0,16502.0,16452.0,16402.0,16352.0,16302.0,16252.0],[16102.0,16052.0,16052.0,15952.0,15952.0,15952.0,15953.0,16052.0,16152.0,16302.0,16502.0,16652.0,16902.0,17103.0,17302.0,17552.0,17802.0],[17852.0,18102.0,18302.0,18602.0,18902.0,19102.0,19202.0,19202.0,19202.0,19252.0,19302.0,19302.0,19302.0,19352.0,19352.0,19352.0,19352.0],[19202.0,19152.0,19102.0,19002.0,18902.0,18752.0,18602.0,18452.0,18302.0,18202.0,18102.0,18002.0,17902.0,17802.0,17752.0,17652.0,17602.0],[17402.0,17352.0,17302.0,17252.0,17202.0,17152.0,17102.0,17052.0,17002.0,16952.0,16952.0,16853.0,16852.0,16802.0,16752.0,16652.0,16552.0],[16302.0,16252.0,16502.0,16502.0,16452.0,16402.0,16352.0,16302.0,16252.0,16252.0,16252.0,16202.0,16252.0,16252.0,16302.0,16352.0,16402.0],[16302.0,16352.0,16402.0,16452.0,16552.0,16602.0,16652.0,16702.0,16752.0,16802.0,16852.0,16902.0,16952.0,17003.0,17052.0,17052.0,17102.0],[16952.0,16952.0,17002.0,17052.0,17102.0,17152.0,17202.0,17252.0,17252.0,17153.0,17102.0,16952.0,16852.0,16752.0,16652.0,16602.0,16502.0],[16202.0,16102.0,15952.0,15852.0,15752.0,15602.0,15452.0,15302.0,15152.0,14952.0,14802.0,14652.0,14502.0,14352.0,14252.0,14102.0,13953.0],[13702.0,13602.0,13502.0,13402.0,13302.0,13202.0,13102.0,13003.0,12952.0,12852.0,12802.0,12702.0,12602.0,12502.0,12403.0,12352.0,12202.0],[11952.0,11902.0,11803.0,11802.0,11703.0,11652.0,11602.0,11503.0,11452.0,11402.0,11352.0,11253.0,11202.0,11153.0,11102.0,11052.0,11002.0],[10802.0,10752.0,10703.0,10652.0,10602.0,10552.0,10552.0,10502.0,10502.0,10502.0,10502.0,10502.0,10502.0,10502.0,10503.0,10552.0,10552.0],[10402.0,10402.0,10402.0,10402.0,10403.0,10452.0,10452.0,10452.0,10452.0,10502.0,10502.0,10502.0,10503.0,10552.0,10552.0,10602.0,10602.0]],\"type\":\"surface\",\"contours\":{\"z\":{\"project\":{\"z\":true},\"highlightcolor\":\"limegreen\",\"show\":true,\"usecolormap\":true}}}],                        {\"template\":{\"data\":{\"histogram2dcontour\":[{\"type\":\"histogram2dcontour\",\"colorbar\":{\"outlinewidth\":0,\"ticks\":\"\"},\"colorscale\":[[0.0,\"#0d0887\"],[0.1111111111111111,\"#46039f\"],[0.2222222222222222,\"#7201a8\"],[0.3333333333333333,\"#9c179e\"],[0.4444444444444444,\"#bd3786\"],[0.5555555555555556,\"#d8576b\"],[0.6666666666666666,\"#ed7953\"],[0.7777777777777778,\"#fb9f3a\"],[0.8888888888888888,\"#fdca26\"],[1.0,\"#f0f921\"]]}],\"choropleth\":[{\"type\":\"choropleth\",\"colorbar\":{\"outlinewidth\":0,\"ticks\":\"\"}}],\"histogram2d\":[{\"type\":\"histogram2d\",\"colorbar\":{\"outlinewidth\":0,\"ticks\":\"\"},\"colorscale\":[[0.0,\"#0d0887\"],[0.1111111111111111,\"#46039f\"],[0.2222222222222222,\"#7201a8\"],[0.3333333333333333,\"#9c179e\"],[0.4444444444444444,\"#bd3786\"],[0.5555555555555556,\"#d8576b\"],[0.6666666666666666,\"#ed7953\"],[0.7777777777777778,\"#fb9f3a\"],[0.8888888888888888,\"#fdca26\"],[1.0,\"#f0f921\"]]}],\"heatmap\":[{\"type\":\"heatmap\",\"colorbar\":{\"outlinewidth\":0,\"ticks\":\"\"},\"colorscale\":[[0.0,\"#0d0887\"],[0.1111111111111111,\"#46039f\"],[0.2222222222222222,\"#7201a8\"],[0.3333333333333333,\"#9c179e\"],[0.4444444444444444,\"#bd3786\"],[0.5555555555555556,\"#d8576b\"],[0.6666666666666666,\"#ed7953\"],[0.7777777777777778,\"#fb9f3a\"],[0.8888888888888888,\"#fdca26\"],[1.0,\"#f0f921\"]]}],\"heatmapgl\":[{\"type\":\"heatmapgl\",\"colorbar\":{\"outlinewidth\":0,\"ticks\":\"\"},\"colorscale\":[[0.0,\"#0d0887\"],[0.1111111111111111,\"#46039f\"],[0.2222222222222222,\"#7201a8\"],[0.3333333333333333,\"#9c179e\"],[0.4444444444444444,\"#bd3786\"],[0.5555555555555556,\"#d8576b\"],[0.6666666666666666,\"#ed7953\"],[0.7777777777777778,\"#fb9f3a\"],[0.8888888888888888,\"#fdca26\"],[1.0,\"#f0f921\"]]}],\"contourcarpet\":[{\"type\":\"contourcarpet\",\"colorbar\":{\"outlinewidth\":0,\"ticks\":\"\"}}],\"contour\":[{\"type\":\"contour\",\"colorbar\":{\"outlinewidth\":0,\"ticks\":\"\"},\"colorscale\":[[0.0,\"#0d0887\"],[0.1111111111111111,\"#46039f\"],[0.2222222222222222,\"#7201a8\"],[0.3333333333333333,\"#9c179e\"],[0.4444444444444444,\"#bd3786\"],[0.5555555555555556,\"#d8576b\"],[0.6666666666666666,\"#ed7953\"],[0.7777777777777778,\"#fb9f3a\"],[0.8888888888888888,\"#fdca26\"],[1.0,\"#f0f921\"]]}],\"surface\":[{\"type\":\"surface\",\"colorbar\":{\"outlinewidth\":0,\"ticks\":\"\"},\"colorscale\":[[0.0,\"#0d0887\"],[0.1111111111111111,\"#46039f\"],[0.2222222222222222,\"#7201a8\"],[0.3333333333333333,\"#9c179e\"],[0.4444444444444444,\"#bd3786\"],[0.5555555555555556,\"#d8576b\"],[0.6666666666666666,\"#ed7953\"],[0.7777777777777778,\"#fb9f3a\"],[0.8888888888888888,\"#fdca26\"],[1.0,\"#f0f921\"]]}],\"mesh3d\":[{\"type\":\"mesh3d\",\"colorbar\":{\"outlinewidth\":0,\"ticks\":\"\"}}],\"scatter\":[{\"fillpattern\":{\"fillmode\":\"overlay\",\"size\":10,\"solidity\":0.2},\"type\":\"scatter\"}],\"parcoords\":[{\"type\":\"parcoords\",\"line\":{\"colorbar\":{\"outlinewidth\":0,\"ticks\":\"\"}}}],\"scatterpolargl\":[{\"type\":\"scatterpolargl\",\"marker\":{\"colorbar\":{\"outlinewidth\":0,\"ticks\":\"\"}}}],\"bar\":[{\"error_x\":{\"color\":\"#2a3f5f\"},\"error_y\":{\"color\":\"#2a3f5f\"},\"marker\":{\"line\":{\"color\":\"#E5ECF6\",\"width\":0.5},\"pattern\":{\"fillmode\":\"overlay\",\"size\":10,\"solidity\":0.2}},\"type\":\"bar\"}],\"scattergeo\":[{\"type\":\"scattergeo\",\"marker\":{\"colorbar\":{\"outlinewidth\":0,\"ticks\":\"\"}}}],\"scatterpolar\":[{\"type\":\"scatterpolar\",\"marker\":{\"colorbar\":{\"outlinewidth\":0,\"ticks\":\"\"}}}],\"histogram\":[{\"marker\":{\"pattern\":{\"fillmode\":\"overlay\",\"size\":10,\"solidity\":0.2}},\"type\":\"histogram\"}],\"scattergl\":[{\"type\":\"scattergl\",\"marker\":{\"colorbar\":{\"outlinewidth\":0,\"ticks\":\"\"}}}],\"scatter3d\":[{\"type\":\"scatter3d\",\"line\":{\"colorbar\":{\"outlinewidth\":0,\"ticks\":\"\"}},\"marker\":{\"colorbar\":{\"outlinewidth\":0,\"ticks\":\"\"}}}],\"scattermapbox\":[{\"type\":\"scattermapbox\",\"marker\":{\"colorbar\":{\"outlinewidth\":0,\"ticks\":\"\"}}}],\"scatterternary\":[{\"type\":\"scatterternary\",\"marker\":{\"colorbar\":{\"outlinewidth\":0,\"ticks\":\"\"}}}],\"scattercarpet\":[{\"type\":\"scattercarpet\",\"marker\":{\"colorbar\":{\"outlinewidth\":0,\"ticks\":\"\"}}}],\"carpet\":[{\"aaxis\":{\"endlinecolor\":\"#2a3f5f\",\"gridcolor\":\"white\",\"linecolor\":\"white\",\"minorgridcolor\":\"white\",\"startlinecolor\":\"#2a3f5f\"},\"baxis\":{\"endlinecolor\":\"#2a3f5f\",\"gridcolor\":\"white\",\"linecolor\":\"white\",\"minorgridcolor\":\"white\",\"startlinecolor\":\"#2a3f5f\"},\"type\":\"carpet\"}],\"table\":[{\"cells\":{\"fill\":{\"color\":\"#EBF0F8\"},\"line\":{\"color\":\"white\"}},\"header\":{\"fill\":{\"color\":\"#C8D4E3\"},\"line\":{\"color\":\"white\"}},\"type\":\"table\"}],\"barpolar\":[{\"marker\":{\"line\":{\"color\":\"#E5ECF6\",\"width\":0.5},\"pattern\":{\"fillmode\":\"overlay\",\"size\":10,\"solidity\":0.2}},\"type\":\"barpolar\"}],\"pie\":[{\"automargin\":true,\"type\":\"pie\"}]},\"layout\":{\"autotypenumbers\":\"strict\",\"colorway\":[\"#636efa\",\"#EF553B\",\"#00cc96\",\"#ab63fa\",\"#FFA15A\",\"#19d3f3\",\"#FF6692\",\"#B6E880\",\"#FF97FF\",\"#FECB52\"],\"font\":{\"color\":\"#2a3f5f\"},\"hovermode\":\"closest\",\"hoverlabel\":{\"align\":\"left\"},\"paper_bgcolor\":\"white\",\"plot_bgcolor\":\"#E5ECF6\",\"polar\":{\"bgcolor\":\"#E5ECF6\",\"angularaxis\":{\"gridcolor\":\"white\",\"linecolor\":\"white\",\"ticks\":\"\"},\"radialaxis\":{\"gridcolor\":\"white\",\"linecolor\":\"white\",\"ticks\":\"\"}},\"ternary\":{\"bgcolor\":\"#E5ECF6\",\"aaxis\":{\"gridcolor\":\"white\",\"linecolor\":\"white\",\"ticks\":\"\"},\"baxis\":{\"gridcolor\":\"white\",\"linecolor\":\"white\",\"ticks\":\"\"},\"caxis\":{\"gridcolor\":\"white\",\"linecolor\":\"white\",\"ticks\":\"\"}},\"coloraxis\":{\"colorbar\":{\"outlinewidth\":0,\"ticks\":\"\"}},\"colorscale\":{\"sequential\":[[0.0,\"#0d0887\"],[0.1111111111111111,\"#46039f\"],[0.2222222222222222,\"#7201a8\"],[0.3333333333333333,\"#9c179e\"],[0.4444444444444444,\"#bd3786\"],[0.5555555555555556,\"#d8576b\"],[0.6666666666666666,\"#ed7953\"],[0.7777777777777778,\"#fb9f3a\"],[0.8888888888888888,\"#fdca26\"],[1.0,\"#f0f921\"]],\"sequentialminus\":[[0.0,\"#0d0887\"],[0.1111111111111111,\"#46039f\"],[0.2222222222222222,\"#7201a8\"],[0.3333333333333333,\"#9c179e\"],[0.4444444444444444,\"#bd3786\"],[0.5555555555555556,\"#d8576b\"],[0.6666666666666666,\"#ed7953\"],[0.7777777777777778,\"#fb9f3a\"],[0.8888888888888888,\"#fdca26\"],[1.0,\"#f0f921\"]],\"diverging\":[[0,\"#8e0152\"],[0.1,\"#c51b7d\"],[0.2,\"#de77ae\"],[0.3,\"#f1b6da\"],[0.4,\"#fde0ef\"],[0.5,\"#f7f7f7\"],[0.6,\"#e6f5d0\"],[0.7,\"#b8e186\"],[0.8,\"#7fbc41\"],[0.9,\"#4d9221\"],[1,\"#276419\"]]},\"xaxis\":{\"gridcolor\":\"white\",\"linecolor\":\"white\",\"ticks\":\"\",\"title\":{\"standoff\":15},\"zerolinecolor\":\"white\",\"automargin\":true,\"zerolinewidth\":2},\"yaxis\":{\"gridcolor\":\"white\",\"linecolor\":\"white\",\"ticks\":\"\",\"title\":{\"standoff\":15},\"zerolinecolor\":\"white\",\"automargin\":true,\"zerolinewidth\":2},\"scene\":{\"xaxis\":{\"backgroundcolor\":\"#E5ECF6\",\"gridcolor\":\"white\",\"linecolor\":\"white\",\"showbackground\":true,\"ticks\":\"\",\"zerolinecolor\":\"white\",\"gridwidth\":2},\"yaxis\":{\"backgroundcolor\":\"#E5ECF6\",\"gridcolor\":\"white\",\"linecolor\":\"white\",\"showbackground\":true,\"ticks\":\"\",\"zerolinecolor\":\"white\",\"gridwidth\":2},\"zaxis\":{\"backgroundcolor\":\"#E5ECF6\",\"gridcolor\":\"white\",\"linecolor\":\"white\",\"showbackground\":true,\"ticks\":\"\",\"zerolinecolor\":\"white\",\"gridwidth\":2}},\"shapedefaults\":{\"line\":{\"color\":\"#2a3f5f\"}},\"annotationdefaults\":{\"arrowcolor\":\"#2a3f5f\",\"arrowhead\":0,\"arrowwidth\":1},\"geo\":{\"bgcolor\":\"white\",\"landcolor\":\"#E5ECF6\",\"subunitcolor\":\"white\",\"showland\":true,\"showlakes\":true,\"lakecolor\":\"white\"},\"title\":{\"x\":0.05},\"mapbox\":{\"style\":\"light\"}}},\"margin\":{\"l\":65,\"r\":50,\"b\":65,\"t\":90},\"title\":{\"text\":\"AFM\"},\"autosize\":false,\"width\":700,\"height\":700},                        {\"responsive\": true}                    ).then(function(){\n",
       "                            \n",
       "var gd = document.getElementById('ef4cd4d7-8992-4cd9-8663-ec251e6d0bf7');\n",
       "var x = new MutationObserver(function (mutations, observer) {{\n",
       "        var display = window.getComputedStyle(gd).display;\n",
       "        if (!display || display === 'none') {{\n",
       "            console.log([gd, 'removed!']);\n",
       "            Plotly.purge(gd);\n",
       "            observer.disconnect();\n",
       "        }}\n",
       "}});\n",
       "\n",
       "// Listen for the removal of the full notebook cells\n",
       "var notebookContainer = gd.closest('#notebook-container');\n",
       "if (notebookContainer) {{\n",
       "    x.observe(notebookContainer, {childList: true});\n",
       "}}\n",
       "\n",
       "// Listen for the clearing of the current output cell\n",
       "var outputEl = gd.closest('.output');\n",
       "if (outputEl) {{\n",
       "    x.observe(outputEl, {childList: true});\n",
       "}}\n",
       "\n",
       "                        })                };                });            </script>        </div>"
      ]
     },
     "metadata": {},
     "output_type": "display_data"
    }
   ],
   "source": [
    "import plotly.graph_objects as go\n",
    "fig = go.Figure(data=[go.Surface(z=afm,colorscale='Blues')])\n",
    "fig.update_traces(contours_z=dict(show=True, usecolormap=True,highlightcolor=\"limegreen\", project_z=True))\n",
    "fig.update_layout(title='AFM', autosize=False,\n",
    "                  width=700, height=700,\n",
    "                  margin=dict(l=65, r=50, b=65, t=90),)\n",
    "\n",
    "fig.show()\n"
   ]
  },
  {
   "cell_type": "code",
   "execution_count": 62,
   "metadata": {},
   "outputs": [
    {
     "data": {
      "application/vnd.plotly.v1+json": {
       "config": {
        "plotlyServerURL": "https://plot.ly"
       },
       "data": [
        {
         "colorscale": [
          [
           0,
           "#0508b8"
          ],
          [
           0.08333333333333333,
           "#1910d8"
          ],
          [
           0.16666666666666666,
           "#3c19f0"
          ],
          [
           0.25,
           "#6b1cfb"
          ],
          [
           0.3333333333333333,
           "#981cfd"
          ],
          [
           0.4166666666666667,
           "#bf1cfd"
          ],
          [
           0.5,
           "#dd2bfd"
          ],
          [
           0.5833333333333334,
           "#f246fe"
          ],
          [
           0.6666666666666666,
           "#fc67fd"
          ],
          [
           0.75,
           "#fe88fc"
          ],
          [
           0.8333333333333334,
           "#fea5fd"
          ],
          [
           0.9166666666666666,
           "#febefe"
          ],
          [
           1,
           "#fec3fe"
          ]
         ],
         "contours": {
          "z": {
           "highlightcolor": "limegreen",
           "project": {
            "z": true
           },
           "show": true,
           "usecolormap": true
          }
         },
         "scene": "scene",
         "showscale": false,
         "type": "surface",
         "x": [
          0,
          1,
          2,
          3,
          4,
          5,
          6,
          7,
          8,
          9,
          10,
          11,
          12,
          13,
          14,
          15,
          16
         ],
         "y": [
          0,
          1,
          2,
          3,
          4,
          5,
          6,
          7,
          8,
          9,
          10,
          11,
          12,
          13,
          14,
          15,
          16
         ],
         "z": [
          [
           8602,
           8752,
           8952,
           9153,
           9452,
           9752,
           10052,
           10352,
           10752,
           11202,
           11602,
           12002,
           12302,
           12653,
           13052,
           13502,
           14002
          ],
          [
           14352,
           14752,
           15252,
           16002,
           16652,
           17402,
           18102,
           18852,
           19502,
           19652,
           20002,
           20102,
           20102,
           20052,
           19952,
           19852,
           19752
          ],
          [
           19552,
           19502,
           19502,
           19402,
           19302,
           19202,
           19102,
           19052,
           18952,
           18902,
           18852,
           18802,
           18752,
           18702,
           18652,
           18602,
           18552
          ],
          [
           18402,
           18302,
           18252,
           18202,
           18152,
           18102,
           18102,
           18002,
           17952,
           17902,
           17802,
           17752,
           17652,
           17553,
           17502,
           17402,
           17352
          ],
          [
           17052,
           17002,
           16902,
           16802,
           16752,
           16702,
           16652,
           16602,
           16602,
           16552,
           16552,
           16502,
           16452,
           16402,
           16352,
           16302,
           16252
          ],
          [
           16102,
           16052,
           16052,
           15952,
           15952,
           15952,
           15953,
           16052,
           16152,
           16302,
           16502,
           16652,
           16902,
           17103,
           17302,
           17552,
           17802
          ],
          [
           17852,
           18102,
           18302,
           18602,
           18902,
           19102,
           19202,
           19202,
           19202,
           19252,
           19302,
           19302,
           19302,
           19352,
           19352,
           19352,
           19352
          ],
          [
           19202,
           19152,
           19102,
           19002,
           18902,
           18752,
           18602,
           18452,
           18302,
           18202,
           18102,
           18002,
           17902,
           17802,
           17752,
           17652,
           17602
          ],
          [
           17402,
           17352,
           17302,
           17252,
           17202,
           17152,
           17102,
           17052,
           17002,
           16952,
           16952,
           16853,
           16852,
           16802,
           16752,
           16652,
           16552
          ],
          [
           16302,
           16252,
           16502,
           16502,
           16452,
           16402,
           16352,
           16302,
           16252,
           16252,
           16252,
           16202,
           16252,
           16252,
           16302,
           16352,
           16402
          ],
          [
           16302,
           16352,
           16402,
           16452,
           16552,
           16602,
           16652,
           16702,
           16752,
           16802,
           16852,
           16902,
           16952,
           17003,
           17052,
           17052,
           17102
          ],
          [
           16952,
           16952,
           17002,
           17052,
           17102,
           17152,
           17202,
           17252,
           17252,
           17153,
           17102,
           16952,
           16852,
           16752,
           16652,
           16602,
           16502
          ],
          [
           16202,
           16102,
           15952,
           15852,
           15752,
           15602,
           15452,
           15302,
           15152,
           14952,
           14802,
           14652,
           14502,
           14352,
           14252,
           14102,
           13953
          ],
          [
           13702,
           13602,
           13502,
           13402,
           13302,
           13202,
           13102,
           13003,
           12952,
           12852,
           12802,
           12702,
           12602,
           12502,
           12403,
           12352,
           12202
          ],
          [
           11952,
           11902,
           11803,
           11802,
           11703,
           11652,
           11602,
           11503,
           11452,
           11402,
           11352,
           11253,
           11202,
           11153,
           11102,
           11052,
           11002
          ],
          [
           10802,
           10752,
           10703,
           10652,
           10602,
           10552,
           10552,
           10502,
           10502,
           10502,
           10502,
           10502,
           10502,
           10502,
           10503,
           10552,
           10552
          ],
          [
           10402,
           10402,
           10402,
           10402,
           10403,
           10452,
           10452,
           10452,
           10452,
           10502,
           10502,
           10502,
           10503,
           10552,
           10552,
           10602,
           10602
          ]
         ]
        },
        {
         "colorscale": [
          [
           0,
           "#0508b8"
          ],
          [
           0.08333333333333333,
           "#1910d8"
          ],
          [
           0.16666666666666666,
           "#3c19f0"
          ],
          [
           0.25,
           "#6b1cfb"
          ],
          [
           0.3333333333333333,
           "#981cfd"
          ],
          [
           0.4166666666666667,
           "#bf1cfd"
          ],
          [
           0.5,
           "#dd2bfd"
          ],
          [
           0.5833333333333334,
           "#f246fe"
          ],
          [
           0.6666666666666666,
           "#fc67fd"
          ],
          [
           0.75,
           "#fe88fc"
          ],
          [
           0.8333333333333334,
           "#fea5fd"
          ],
          [
           0.9166666666666666,
           "#febefe"
          ],
          [
           1,
           "#fec3fe"
          ]
         ],
         "contours": {
          "z": {
           "highlightcolor": "limegreen",
           "project": {
            "z": true
           },
           "show": true,
           "usecolormap": true
          }
         },
         "scene": "scene2",
         "showscale": false,
         "type": "surface",
         "x": [
          0,
          1,
          2,
          3,
          4,
          5,
          6,
          7,
          8,
          9,
          10,
          11,
          12,
          13,
          14,
          15,
          16
         ],
         "y": [
          0,
          1,
          2,
          3,
          4,
          5,
          6,
          7,
          8,
          9,
          10,
          11,
          12,
          13,
          14,
          15,
          16
         ],
         "z": [
          [
           0.0009476666666666666,
           0.0009000000000000001,
           0.0008279999999999999,
           0.0008119999999999999,
           0.0008211666666666667,
           0.0008458333333333333,
           0.0008585,
           0.0008383333333333333,
           0.0008266666666666666,
           0.0008191666666666667,
           0.0008015,
           0.0007675,
           0.0007473333333333334,
           0.0007331666666666667,
           0.0007495000000000001,
           0.0007729999999999999,
           0.0007971666666666666
          ],
          [
           0.0007611666666666666,
           0.0007446666666666666,
           0.000749,
           0.000754,
           0.0007756666666666667,
           0.0008529999999999999,
           0.0008665,
           0.0009015,
           0.0009058333333333335,
           0.0008438333333333333,
           0.0008181666666666667,
           0.0007856666666666667,
           0.0007621666666666666,
           0.0007678333333333334,
           0.0007663333333333333,
           0.0007721666666666667,
           0.0007803333333333334
          ],
          [
           0.0007518333333333334,
           0.0007246666666666668,
           0.0007236666666666667,
           0.0007278333333333334,
           0.0007348333333333333,
           0.0007575,
           0.0007273333333333333,
           0.0007208333333333334,
           0.0007021666666666666,
           0.0006958333333333334,
           0.0006981666666666667,
           0.00068,
           0.000687,
           0.0006705,
           0.000657,
           0.0006431666666666668,
           0.0006456666666666667
          ],
          [
           0.0006621666666666667,
           0.000646,
           0.0006450000000000001,
           0.0006535,
           0.0006453333333333334,
           0.0006443333333333333,
           0.0006683333333333333,
           0.0006478333333333333,
           0.0006628333333333334,
           0.0006776666666666667,
           0.000677,
           0.0006810000000000001,
           0.0006638333333333334,
           0.0006583333333333334,
           0.000666,
           0.0006668333333333334,
           0.0006881666666666667
          ],
          [
           0.0006483333333333333,
           0.0006718333333333333,
           0.0006725,
           0.0006523333333333333,
           0.0006518333333333333,
           0.0006466666666666666,
           0.0006451666666666667,
           0.0006353333333333333,
           0.0006481666666666667,
           0.0006326666666666667,
           0.0006388333333333333,
           0.0006565,
           0.0006501666666666666,
           0.0006415,
           0.0006451666666666667,
           0.0006616666666666666,
           0.0006551666666666666
          ],
          [
           0.0006933333333333335,
           0.0007109999999999999,
           0.0007458333333333333,
           0.000709,
           0.000723,
           0.0007186666666666666,
           0.0007151666666666668,
           0.0007371666666666667,
           0.0007639999999999999,
           0.0008186666666666667,
           0.0008648333333333333,
           0.0008926666666666666,
           0.0009260000000000001,
           0.0009125000000000001,
           0.0009073333333333333,
           0.0009123333333333332,
           0.0009069999999999999
          ],
          [
           0.0008698333333333332,
           0.0008333333333333332,
           0.0008438333333333333,
           0.0008380000000000001,
           0.0008801666666666667,
           0.0008985,
           0.0008590000000000001,
           0.0008108333333333334,
           0.000759,
           0.000738,
           0.0007346666666666668,
           0.0007353333333333334,
           0.0007265,
           0.0007378333333333333,
           0.0007321666666666666,
           0.0007298333333333333,
           0.000736
          ],
          [
           0.0007356666666666667,
           0.0007191666666666667,
           0.0007048333333333334,
           0.0006795,
           0.0006658333333333334,
           0.0006518333333333333,
           0.0006521666666666667,
           0.0006456666666666667,
           0.0006433333333333333,
           0.0006456666666666667,
           0.0006491666666666667,
           0.0006606666666666666,
           0.0006528333333333334,
           0.0006549999999999999,
           0.0006816666666666667,
           0.00066,
           0.000669
          ],
          [
           0.0006441666666666666,
           0.0006468333333333334,
           0.0006378333333333334,
           0.0006385000000000001,
           0.0006396666666666666,
           0.0006218333333333333,
           0.0006165000000000001,
           0.0006064999999999999,
           0.0005961666666666667,
           0.0005929999999999999,
           0.0006068333333333334,
           0.0005916666666666667,
           0.0006091666666666666,
           0.0006236666666666667,
           0.0006439999999999999,
           0.0006473333333333334,
           0.0006546666666666667
          ],
          [
           0.0006423333333333333,
           0.0006403333333333334,
           0.0006241666666666666,
           0.0006231666666666667,
           0.0006176666666666666,
           0.0006206666666666666,
           0.000621,
           0.0006090000000000001,
           0.0006091666666666667,
           0.0006206666666666666,
           0.000638,
           0.0006293333333333333,
           0.0006418333333333333,
           0.0006343333333333334,
           0.0006259999999999999,
           0.0006148333333333334,
           0.0006078333333333334
          ],
          [
           0.0005976666666666667,
           0.0006141666666666666,
           0.0006176666666666666,
           0.0006073333333333334,
           0.0006131666666666667,
           0.0006208333333333334,
           0.0006103333333333334,
           0.0006086666666666666,
           0.0006093333333333333,
           0.0006035,
           0.000597,
           0.0005991666666666667,
           0.000613,
           0.0006131666666666667,
           0.0006056666666666667,
           0.0005975,
           0.0006036666666666667
          ],
          [
           0.0006028333333333333,
           0.0006046666666666667,
           0.0006176666666666666,
           0.0006143333333333334,
           0.0006063333333333333,
           0.0006023333333333333,
           0.0005985,
           0.0005898333333333334,
           0.0005908333333333333,
           0.0006093333333333333,
           0.0006388333333333333,
           0.000648,
           0.0006578333333333333,
           0.0006684999999999999,
           0.0006666666666666666,
           0.0006581666666666667,
           0.0006476666666666666
          ],
          [
           0.0006318333333333333,
           0.0006188333333333333,
           0.0006396666666666667,
           0.0006576666666666666,
           0.0006691666666666665,
           0.0006873333333333333,
           0.0006864999999999999,
           0.0006766666666666666,
           0.0006733333333333334,
           0.0006803333333333332,
           0.0006645,
           0.0006511666666666666,
           0.0006423333333333333,
           0.0006383333333333333,
           0.0006341666666666667,
           0.0006526666666666667,
           0.0006588333333333333
          ],
          [
           0.0006679999999999999,
           0.0006678333333333333,
           0.0006688333333333333,
           0.0006853333333333334,
           0.0006941666666666667,
           0.0006958333333333334,
           0.0007075000000000001,
           0.0007171666666666667,
           0.0007036666666666667,
           0.0007135,
           0.0006866666666666667,
           0.0007151666666666666,
           0.0007003333333333333,
           0.0006911666666666666,
           0.0006943333333333334,
           0.0006821666666666665,
           0.0006846666666666666
          ],
          [
           0.0006895,
           0.0006813333333333333,
           0.0006965,
           0.0006734999999999999,
           0.0006864999999999999,
           0.0006814999999999999,
           0.0006843333333333333,
           0.0006998333333333332,
           0.0006981666666666667,
           0.0007073333333333334,
           0.0007038333333333333,
           0.0007125,
           0.0007265,
           0.000729,
           0.0007331666666666667,
           0.000731,
           0.0007231666666666667
          ],
          [
           0.0007458333333333333,
           0.000751,
           0.0007543333333333333,
           0.000751,
           0.0007430000000000001,
           0.0007408333333333334,
           0.0007165,
           0.0007013333333333333,
           0.0006985,
           0.0006893333333333334,
           0.0006731666666666666,
           0.0006831666666666667,
           0.0006898333333333334,
           0.0006905,
           0.0006996666666666667,
           0.0006701666666666667,
           0.0006768333333333334
          ],
          [
           0.0006986666666666666,
           0.0007023333333333333,
           0.000697,
           0.0007044999999999999,
           0.000709,
           0.0006913333333333333,
           0.0006998333333333332,
           0.0007055,
           0.000726,
           0.0007066666666666666,
           0.0007245,
           0.0007293333333333332,
           0.0007498333333333333,
           0.0007411666666666666,
           0.0007701666666666667,
           0.000733,
           0.0007321666666666666
          ]
         ]
        },
        {
         "colorscale": [
          [
           0,
           "#0508b8"
          ],
          [
           0.08333333333333333,
           "#1910d8"
          ],
          [
           0.16666666666666666,
           "#3c19f0"
          ],
          [
           0.25,
           "#6b1cfb"
          ],
          [
           0.3333333333333333,
           "#981cfd"
          ],
          [
           0.4166666666666667,
           "#bf1cfd"
          ],
          [
           0.5,
           "#dd2bfd"
          ],
          [
           0.5833333333333334,
           "#f246fe"
          ],
          [
           0.6666666666666666,
           "#fc67fd"
          ],
          [
           0.75,
           "#fe88fc"
          ],
          [
           0.8333333333333334,
           "#fea5fd"
          ],
          [
           0.9166666666666666,
           "#febefe"
          ],
          [
           1,
           "#fec3fe"
          ]
         ],
         "contours": {
          "z": {
           "highlightcolor": "limegreen",
           "project": {
            "z": true
           },
           "show": true,
           "usecolormap": true
          }
         },
         "scene": "scene3",
         "showscale": false,
         "type": "surface",
         "x": [
          0,
          1,
          2,
          3,
          4,
          5,
          6,
          7,
          8,
          9,
          10,
          11,
          12,
          13,
          14,
          15,
          16
         ],
         "y": [
          0,
          1,
          2,
          3,
          4,
          5,
          6,
          7,
          8,
          9,
          10,
          11,
          12,
          13,
          14,
          15,
          16
         ],
         "z": [
          [
           -0.0010499,
           -0.0010205333333333335,
           -0.0009271,
           -0.0008886333333333333,
           -0.0009415333333333333,
           -0.0009352000000000001,
           -0.0009619333333333334,
           -0.0009483333333333333,
           -0.0009611333333333333,
           -0.0009519,
           -0.0008945666666666666,
           -0.0008466666666666667,
           -0.0008889666666666668,
           -0.0008360333333333334,
           -0.0008541666666666667,
           -0.0008303999999999999,
           -0.0008453666666666666
          ],
          [
           -0.0008127,
           -0.0008441666666666667,
           -0.0007965666666666666,
           -0.0008774999999999999,
           -0.0008801333333333334,
           -0.0009792666666666667,
           -0.0009356,
           -0.0010460666666666665,
           -0.0009878,
           -0.0008902666666666667,
           -0.0008876666666666667,
           -0.0008667333333333333,
           -0.0008885333333333334,
           -0.0008686000000000001,
           -0.0008942333333333334,
           -0.0008200333333333334,
           -0.0008554333333333332
          ],
          [
           -0.0008104666666666668,
           -0.0008473,
           -0.00079,
           -0.0008139666666666668,
           -0.0008054333333333332,
           -0.0008423666666666666,
           -0.0008476333333333332,
           -0.0008614333333333333,
           -0.0007924666666666667,
           -0.000745,
           -0.0007667666666666666,
           -0.0007167333333333334,
           -0.0007693999999999999,
           -0.0007452,
           -0.0007726666666666667,
           -0.0007393666666666667,
           -0.0006975666666666666
          ],
          [
           -0.0007579,
           -0.0007463333333333333,
           -0.0007239666666666667,
           -0.0007227666666666665,
           -0.0006810000000000001,
           -0.0006971666666666667,
           -0.0007225,
           -0.0007115666666666666,
           -0.0007195999999999999,
           -0.0007541333333333333,
           -0.0007552333333333333,
           -0.0007799,
           -0.0007768666666666666,
           -0.0007398666666666667,
           -0.0007689333333333334,
           -0.0007696999999999999,
           -0.0007628333333333332
          ],
          [
           -0.0007323999999999999,
           -0.0007122,
           -0.0007777333333333332,
           -0.0007633333333333333,
           -0.0006987666666666667,
           -0.0007260666666666667,
           -0.0007569666666666667,
           -0.0006693,
           -0.0007348333333333333,
           -0.0006966,
           -0.0007443333333333334,
           -0.0007561666666666666,
           -0.0007169666666666667,
           -0.0007382999999999999,
           -0.0007376666666666667,
           -0.0007112,
           -0.0007133
          ],
          [
           -0.0007871666666666666,
           -0.0007465666666666666,
           -0.0008511333333333333,
           -0.0007809666666666668,
           -0.0007758,
           -0.0008121,
           -0.000832,
           -0.0008312666666666666,
           -0.0008654,
           -0.0009040666666666667,
           -0.0009821333333333334,
           -0.001017,
           -0.0010352,
           -0.0010153666666666667,
           -0.0010090666666666666,
           -0.0010147666666666666,
           -0.0010122666666666667
          ],
          [
           -0.0009802333333333334,
           -0.0008724000000000001,
           -0.0009259,
           -0.0009653666666666667,
           -0.001,
           -0.0010026999999999998,
           -0.0009597,
           -0.0008905333333333334,
           -0.0008272,
           -0.0008265999999999999,
           -0.0008020666666666666,
           -0.0008304666666666666,
           -0.0007821,
           -0.0008126666666666667,
           -0.0008103333333333334,
           -0.0008115666666666668,
           -0.0008019999999999999
          ],
          [
           -0.0008303000000000001,
           -0.0007825666666666668,
           -0.0007968333333333333,
           -0.0007289999999999999,
           -0.0007422666666666667,
           -0.0006815666666666666,
           -0.0007476000000000001,
           -0.0007227666666666665,
           -0.0007133333333333333,
           -0.0007234333333333334,
           -0.0007207333333333335,
           -0.0007652333333333333,
           -0.0007196,
           -0.0007327333333333333,
           -0.0007760333333333333,
           -0.0007137,
           -0.0007461666666666667
          ],
          [
           -0.0007058,
           -0.0007327333333333333,
           -0.0006920999999999999,
           -0.0007080333333333334,
           -0.0007145333333333333,
           -0.0006858333333333333,
           -0.0006928,
           -0.0006689666666666666,
           -0.0006658333333333334,
           -0.0006650666666666666,
           -0.0006610333333333333,
           -0.0006431000000000001,
           -0.0006699666666666668,
           -0.0006549666666666667,
           -0.0006924333333333333,
           -0.0007502666666666666,
           -0.0007326333333333334
          ],
          [
           -0.0007057666666666667,
           -0.0007075000000000001,
           -0.0006763,
           -0.0006656,
           -0.0006375666666666666,
           -0.0006733666666666666,
           -0.0007022666666666666,
           -0.0007067333333333333,
           -0.000663,
           -0.0007042333333333334,
           -0.0007278000000000001,
           -0.0006767666666666667,
           -0.0007636666666666667,
           -0.0006855,
           -0.0006786666666666667,
           -0.0006494,
           -0.0006795666666666667
          ],
          [
           -0.0006526,
           -0.0006651333333333333,
           -0.000648,
           -0.0006454,
           -0.0006743333333333333,
           -0.0006901333333333334,
           -0.0006671,
           -0.0006630000000000001,
           -0.0006754333333333333,
           -0.0006565999999999999,
           -0.0006480666666666667,
           -0.0006392666666666666,
           -0.0006895666666666666,
           -0.0006941666666666667,
           -0.0006822666666666667,
           -0.0006402666666666667,
           -0.0006535333333333332
          ],
          [
           -0.0006610000000000001,
           -0.0006564333333333334,
           -0.0006715333333333334,
           -0.0006689333333333333,
           -0.0006695666666666667,
           -0.0006659333333333333,
           -0.0006903333333333333,
           -0.0006423666666666667,
           -0.0006504666666666666,
           -0.0006697333333333333,
           -0.0007258999999999999,
           -0.0006988,
           -0.0007305666666666666,
           -0.0007068666666666668,
           -0.0007296666666666667,
           -0.0007184666666666667,
           -0.0007306000000000001
          ],
          [
           -0.0006938666666666667,
           -0.0006639666666666666,
           -0.0007043,
           -0.0006919666666666668,
           -0.0007308000000000001,
           -0.0007611333333333334,
           -0.0007282333333333333,
           -0.0007484000000000001,
           -0.0007363333333333333,
           -0.0007378333333333334,
           -0.0007011333333333333,
           -0.0007099333333333334,
           -0.0006894000000000001,
           -0.0006709,
           -0.0006823666666666666,
           -0.0006931333333333333,
           -0.0007111
          ],
          [
           -0.0007179333333333333,
           -0.0007507,
           -0.0007287666666666667,
           -0.0007646333333333333,
           -0.0007477,
           -0.0007479,
           -0.0007546666666666668,
           -0.0007997000000000001,
           -0.0007534,
           -0.0007765,
           -0.0007403333333333333,
           -0.0007908333333333332,
           -0.0007630666666666666,
           -0.0007597666666666666,
           -0.0007329333333333333,
           -0.0007457000000000001,
           -0.0007736666666666668
          ],
          [
           -0.0007580333333333332,
           -0.0007623666666666666,
           -0.0007458333333333333,
           -0.0007182333333333332,
           -0.0007401333333333333,
           -0.0007338333333333333,
           -0.0007490666666666667,
           -0.0007626333333333332,
           -0.0007704333333333333,
           -0.0007331333333333332,
           -0.0007775,
           -0.0007618333333333334,
           -0.0008070666666666667,
           -0.0007676666666666668,
           -0.0008198333333333333,
           -0.0008078666666666666,
           -0.0007821
          ],
          [
           -0.0007924333333333334,
           -0.0008176999999999999,
           -0.0008132666666666666,
           -0.0008239666666666666,
           -0.0007945333333333333,
           -0.0008132,
           -0.0007970666666666667,
           -0.000762,
           -0.0007585,
           -0.0007315666666666666,
           -0.0007584333333333334,
           -0.0007593666666666667,
           -0.0007316666666666666,
           -0.0007583,
           -0.0007567666666666666,
           -0.0007196,
           -0.0007383
          ],
          [
           -0.0007127,
           -0.0007549000000000001,
           -0.0007623333333333333,
           -0.0007674333333333334,
           -0.0007673666666666667,
           -0.0007145666666666667,
           -0.0007239,
           -0.0007313666666666666,
           -0.0007975,
           -0.0007231333333333334,
           -0.0007379999999999999,
           -0.0007747,
           -0.0008065,
           -0.0007655333333333334,
           -0.0007783,
           -0.0007886666666666667,
           -0.0008355333333333333
          ]
         ]
        }
       ],
       "layout": {
        "height": 500,
        "scene": {
         "domain": {
          "x": [
           0,
           0.2888888888888889
          ],
          "y": [
           0,
           1
          ]
         }
        },
        "scene2": {
         "domain": {
          "x": [
           0.35555555555555557,
           0.6444444444444445
          ],
          "y": [
           0,
           1
          ]
         }
        },
        "scene3": {
         "domain": {
          "x": [
           0.7111111111111111,
           1
          ],
          "y": [
           0,
           1
          ]
         }
        },
        "template": {
         "data": {
          "bar": [
           {
            "error_x": {
             "color": "#2a3f5f"
            },
            "error_y": {
             "color": "#2a3f5f"
            },
            "marker": {
             "line": {
              "color": "#E5ECF6",
              "width": 0.5
             },
             "pattern": {
              "fillmode": "overlay",
              "size": 10,
              "solidity": 0.2
             }
            },
            "type": "bar"
           }
          ],
          "barpolar": [
           {
            "marker": {
             "line": {
              "color": "#E5ECF6",
              "width": 0.5
             },
             "pattern": {
              "fillmode": "overlay",
              "size": 10,
              "solidity": 0.2
             }
            },
            "type": "barpolar"
           }
          ],
          "carpet": [
           {
            "aaxis": {
             "endlinecolor": "#2a3f5f",
             "gridcolor": "white",
             "linecolor": "white",
             "minorgridcolor": "white",
             "startlinecolor": "#2a3f5f"
            },
            "baxis": {
             "endlinecolor": "#2a3f5f",
             "gridcolor": "white",
             "linecolor": "white",
             "minorgridcolor": "white",
             "startlinecolor": "#2a3f5f"
            },
            "type": "carpet"
           }
          ],
          "choropleth": [
           {
            "colorbar": {
             "outlinewidth": 0,
             "ticks": ""
            },
            "type": "choropleth"
           }
          ],
          "contour": [
           {
            "colorbar": {
             "outlinewidth": 0,
             "ticks": ""
            },
            "colorscale": [
             [
              0,
              "#0d0887"
             ],
             [
              0.1111111111111111,
              "#46039f"
             ],
             [
              0.2222222222222222,
              "#7201a8"
             ],
             [
              0.3333333333333333,
              "#9c179e"
             ],
             [
              0.4444444444444444,
              "#bd3786"
             ],
             [
              0.5555555555555556,
              "#d8576b"
             ],
             [
              0.6666666666666666,
              "#ed7953"
             ],
             [
              0.7777777777777778,
              "#fb9f3a"
             ],
             [
              0.8888888888888888,
              "#fdca26"
             ],
             [
              1,
              "#f0f921"
             ]
            ],
            "type": "contour"
           }
          ],
          "contourcarpet": [
           {
            "colorbar": {
             "outlinewidth": 0,
             "ticks": ""
            },
            "type": "contourcarpet"
           }
          ],
          "heatmap": [
           {
            "colorbar": {
             "outlinewidth": 0,
             "ticks": ""
            },
            "colorscale": [
             [
              0,
              "#0d0887"
             ],
             [
              0.1111111111111111,
              "#46039f"
             ],
             [
              0.2222222222222222,
              "#7201a8"
             ],
             [
              0.3333333333333333,
              "#9c179e"
             ],
             [
              0.4444444444444444,
              "#bd3786"
             ],
             [
              0.5555555555555556,
              "#d8576b"
             ],
             [
              0.6666666666666666,
              "#ed7953"
             ],
             [
              0.7777777777777778,
              "#fb9f3a"
             ],
             [
              0.8888888888888888,
              "#fdca26"
             ],
             [
              1,
              "#f0f921"
             ]
            ],
            "type": "heatmap"
           }
          ],
          "heatmapgl": [
           {
            "colorbar": {
             "outlinewidth": 0,
             "ticks": ""
            },
            "colorscale": [
             [
              0,
              "#0d0887"
             ],
             [
              0.1111111111111111,
              "#46039f"
             ],
             [
              0.2222222222222222,
              "#7201a8"
             ],
             [
              0.3333333333333333,
              "#9c179e"
             ],
             [
              0.4444444444444444,
              "#bd3786"
             ],
             [
              0.5555555555555556,
              "#d8576b"
             ],
             [
              0.6666666666666666,
              "#ed7953"
             ],
             [
              0.7777777777777778,
              "#fb9f3a"
             ],
             [
              0.8888888888888888,
              "#fdca26"
             ],
             [
              1,
              "#f0f921"
             ]
            ],
            "type": "heatmapgl"
           }
          ],
          "histogram": [
           {
            "marker": {
             "pattern": {
              "fillmode": "overlay",
              "size": 10,
              "solidity": 0.2
             }
            },
            "type": "histogram"
           }
          ],
          "histogram2d": [
           {
            "colorbar": {
             "outlinewidth": 0,
             "ticks": ""
            },
            "colorscale": [
             [
              0,
              "#0d0887"
             ],
             [
              0.1111111111111111,
              "#46039f"
             ],
             [
              0.2222222222222222,
              "#7201a8"
             ],
             [
              0.3333333333333333,
              "#9c179e"
             ],
             [
              0.4444444444444444,
              "#bd3786"
             ],
             [
              0.5555555555555556,
              "#d8576b"
             ],
             [
              0.6666666666666666,
              "#ed7953"
             ],
             [
              0.7777777777777778,
              "#fb9f3a"
             ],
             [
              0.8888888888888888,
              "#fdca26"
             ],
             [
              1,
              "#f0f921"
             ]
            ],
            "type": "histogram2d"
           }
          ],
          "histogram2dcontour": [
           {
            "colorbar": {
             "outlinewidth": 0,
             "ticks": ""
            },
            "colorscale": [
             [
              0,
              "#0d0887"
             ],
             [
              0.1111111111111111,
              "#46039f"
             ],
             [
              0.2222222222222222,
              "#7201a8"
             ],
             [
              0.3333333333333333,
              "#9c179e"
             ],
             [
              0.4444444444444444,
              "#bd3786"
             ],
             [
              0.5555555555555556,
              "#d8576b"
             ],
             [
              0.6666666666666666,
              "#ed7953"
             ],
             [
              0.7777777777777778,
              "#fb9f3a"
             ],
             [
              0.8888888888888888,
              "#fdca26"
             ],
             [
              1,
              "#f0f921"
             ]
            ],
            "type": "histogram2dcontour"
           }
          ],
          "mesh3d": [
           {
            "colorbar": {
             "outlinewidth": 0,
             "ticks": ""
            },
            "type": "mesh3d"
           }
          ],
          "parcoords": [
           {
            "line": {
             "colorbar": {
              "outlinewidth": 0,
              "ticks": ""
             }
            },
            "type": "parcoords"
           }
          ],
          "pie": [
           {
            "automargin": true,
            "type": "pie"
           }
          ],
          "scatter": [
           {
            "fillpattern": {
             "fillmode": "overlay",
             "size": 10,
             "solidity": 0.2
            },
            "type": "scatter"
           }
          ],
          "scatter3d": [
           {
            "line": {
             "colorbar": {
              "outlinewidth": 0,
              "ticks": ""
             }
            },
            "marker": {
             "colorbar": {
              "outlinewidth": 0,
              "ticks": ""
             }
            },
            "type": "scatter3d"
           }
          ],
          "scattercarpet": [
           {
            "marker": {
             "colorbar": {
              "outlinewidth": 0,
              "ticks": ""
             }
            },
            "type": "scattercarpet"
           }
          ],
          "scattergeo": [
           {
            "marker": {
             "colorbar": {
              "outlinewidth": 0,
              "ticks": ""
             }
            },
            "type": "scattergeo"
           }
          ],
          "scattergl": [
           {
            "marker": {
             "colorbar": {
              "outlinewidth": 0,
              "ticks": ""
             }
            },
            "type": "scattergl"
           }
          ],
          "scattermapbox": [
           {
            "marker": {
             "colorbar": {
              "outlinewidth": 0,
              "ticks": ""
             }
            },
            "type": "scattermapbox"
           }
          ],
          "scatterpolar": [
           {
            "marker": {
             "colorbar": {
              "outlinewidth": 0,
              "ticks": ""
             }
            },
            "type": "scatterpolar"
           }
          ],
          "scatterpolargl": [
           {
            "marker": {
             "colorbar": {
              "outlinewidth": 0,
              "ticks": ""
             }
            },
            "type": "scatterpolargl"
           }
          ],
          "scatterternary": [
           {
            "marker": {
             "colorbar": {
              "outlinewidth": 0,
              "ticks": ""
             }
            },
            "type": "scatterternary"
           }
          ],
          "surface": [
           {
            "colorbar": {
             "outlinewidth": 0,
             "ticks": ""
            },
            "colorscale": [
             [
              0,
              "#0d0887"
             ],
             [
              0.1111111111111111,
              "#46039f"
             ],
             [
              0.2222222222222222,
              "#7201a8"
             ],
             [
              0.3333333333333333,
              "#9c179e"
             ],
             [
              0.4444444444444444,
              "#bd3786"
             ],
             [
              0.5555555555555556,
              "#d8576b"
             ],
             [
              0.6666666666666666,
              "#ed7953"
             ],
             [
              0.7777777777777778,
              "#fb9f3a"
             ],
             [
              0.8888888888888888,
              "#fdca26"
             ],
             [
              1,
              "#f0f921"
             ]
            ],
            "type": "surface"
           }
          ],
          "table": [
           {
            "cells": {
             "fill": {
              "color": "#EBF0F8"
             },
             "line": {
              "color": "white"
             }
            },
            "header": {
             "fill": {
              "color": "#C8D4E3"
             },
             "line": {
              "color": "white"
             }
            },
            "type": "table"
           }
          ]
         },
         "layout": {
          "annotationdefaults": {
           "arrowcolor": "#2a3f5f",
           "arrowhead": 0,
           "arrowwidth": 1
          },
          "autotypenumbers": "strict",
          "coloraxis": {
           "colorbar": {
            "outlinewidth": 0,
            "ticks": ""
           }
          },
          "colorscale": {
           "diverging": [
            [
             0,
             "#8e0152"
            ],
            [
             0.1,
             "#c51b7d"
            ],
            [
             0.2,
             "#de77ae"
            ],
            [
             0.3,
             "#f1b6da"
            ],
            [
             0.4,
             "#fde0ef"
            ],
            [
             0.5,
             "#f7f7f7"
            ],
            [
             0.6,
             "#e6f5d0"
            ],
            [
             0.7,
             "#b8e186"
            ],
            [
             0.8,
             "#7fbc41"
            ],
            [
             0.9,
             "#4d9221"
            ],
            [
             1,
             "#276419"
            ]
           ],
           "sequential": [
            [
             0,
             "#0d0887"
            ],
            [
             0.1111111111111111,
             "#46039f"
            ],
            [
             0.2222222222222222,
             "#7201a8"
            ],
            [
             0.3333333333333333,
             "#9c179e"
            ],
            [
             0.4444444444444444,
             "#bd3786"
            ],
            [
             0.5555555555555556,
             "#d8576b"
            ],
            [
             0.6666666666666666,
             "#ed7953"
            ],
            [
             0.7777777777777778,
             "#fb9f3a"
            ],
            [
             0.8888888888888888,
             "#fdca26"
            ],
            [
             1,
             "#f0f921"
            ]
           ],
           "sequentialminus": [
            [
             0,
             "#0d0887"
            ],
            [
             0.1111111111111111,
             "#46039f"
            ],
            [
             0.2222222222222222,
             "#7201a8"
            ],
            [
             0.3333333333333333,
             "#9c179e"
            ],
            [
             0.4444444444444444,
             "#bd3786"
            ],
            [
             0.5555555555555556,
             "#d8576b"
            ],
            [
             0.6666666666666666,
             "#ed7953"
            ],
            [
             0.7777777777777778,
             "#fb9f3a"
            ],
            [
             0.8888888888888888,
             "#fdca26"
            ],
            [
             1,
             "#f0f921"
            ]
           ]
          },
          "colorway": [
           "#636efa",
           "#EF553B",
           "#00cc96",
           "#ab63fa",
           "#FFA15A",
           "#19d3f3",
           "#FF6692",
           "#B6E880",
           "#FF97FF",
           "#FECB52"
          ],
          "font": {
           "color": "#2a3f5f"
          },
          "geo": {
           "bgcolor": "white",
           "lakecolor": "white",
           "landcolor": "#E5ECF6",
           "showlakes": true,
           "showland": true,
           "subunitcolor": "white"
          },
          "hoverlabel": {
           "align": "left"
          },
          "hovermode": "closest",
          "mapbox": {
           "style": "light"
          },
          "paper_bgcolor": "white",
          "plot_bgcolor": "#E5ECF6",
          "polar": {
           "angularaxis": {
            "gridcolor": "white",
            "linecolor": "white",
            "ticks": ""
           },
           "bgcolor": "#E5ECF6",
           "radialaxis": {
            "gridcolor": "white",
            "linecolor": "white",
            "ticks": ""
           }
          },
          "scene": {
           "xaxis": {
            "backgroundcolor": "#E5ECF6",
            "gridcolor": "white",
            "gridwidth": 2,
            "linecolor": "white",
            "showbackground": true,
            "ticks": "",
            "zerolinecolor": "white"
           },
           "yaxis": {
            "backgroundcolor": "#E5ECF6",
            "gridcolor": "white",
            "gridwidth": 2,
            "linecolor": "white",
            "showbackground": true,
            "ticks": "",
            "zerolinecolor": "white"
           },
           "zaxis": {
            "backgroundcolor": "#E5ECF6",
            "gridcolor": "white",
            "gridwidth": 2,
            "linecolor": "white",
            "showbackground": true,
            "ticks": "",
            "zerolinecolor": "white"
           }
          },
          "shapedefaults": {
           "line": {
            "color": "#2a3f5f"
           }
          },
          "ternary": {
           "aaxis": {
            "gridcolor": "white",
            "linecolor": "white",
            "ticks": ""
           },
           "baxis": {
            "gridcolor": "white",
            "linecolor": "white",
            "ticks": ""
           },
           "bgcolor": "#E5ECF6",
           "caxis": {
            "gridcolor": "white",
            "linecolor": "white",
            "ticks": ""
           }
          },
          "title": {
           "x": 0.05
          },
          "xaxis": {
           "automargin": true,
           "gridcolor": "white",
           "linecolor": "white",
           "ticks": "",
           "title": {
            "standoff": 15
           },
           "zerolinecolor": "white",
           "zerolinewidth": 2
          },
          "yaxis": {
           "automargin": true,
           "gridcolor": "white",
           "linecolor": "white",
           "ticks": "",
           "title": {
            "standoff": 15
           },
           "zerolinecolor": "white",
           "zerolinewidth": 2
          }
         }
        },
        "title": {
         "text": "AFM, Lockin, Multimeter data results"
        },
        "width": 1200
       }
      },
      "text/html": [
       "<div>                            <div id=\"19dfbe69-d586-4bb5-a5c2-e27ab9815791\" class=\"plotly-graph-div\" style=\"height:500px; width:1200px;\"></div>            <script type=\"text/javascript\">                require([\"plotly\"], function(Plotly) {                    window.PLOTLYENV=window.PLOTLYENV || {};                                    if (document.getElementById(\"19dfbe69-d586-4bb5-a5c2-e27ab9815791\")) {                    Plotly.newPlot(                        \"19dfbe69-d586-4bb5-a5c2-e27ab9815791\",                        [{\"colorscale\":[[0.0,\"#0508b8\"],[0.08333333333333333,\"#1910d8\"],[0.16666666666666666,\"#3c19f0\"],[0.25,\"#6b1cfb\"],[0.3333333333333333,\"#981cfd\"],[0.4166666666666667,\"#bf1cfd\"],[0.5,\"#dd2bfd\"],[0.5833333333333334,\"#f246fe\"],[0.6666666666666666,\"#fc67fd\"],[0.75,\"#fe88fc\"],[0.8333333333333334,\"#fea5fd\"],[0.9166666666666666,\"#febefe\"],[1.0,\"#fec3fe\"]],\"showscale\":false,\"x\":[0,1,2,3,4,5,6,7,8,9,10,11,12,13,14,15,16],\"y\":[0,1,2,3,4,5,6,7,8,9,10,11,12,13,14,15,16],\"z\":[[8602.0,8752.0,8952.0,9153.0,9452.0,9752.0,10052.0,10352.0,10752.0,11202.0,11602.0,12002.0,12302.0,12653.0,13052.0,13502.0,14002.0],[14352.0,14752.0,15252.0,16002.0,16652.0,17402.0,18102.0,18852.0,19502.0,19652.0,20002.0,20102.0,20102.0,20052.0,19952.0,19852.0,19752.0],[19552.0,19502.0,19502.0,19402.0,19302.0,19202.0,19102.0,19052.0,18952.0,18902.0,18852.0,18802.0,18752.0,18702.0,18652.0,18602.0,18552.0],[18402.0,18302.0,18252.0,18202.0,18152.0,18102.0,18102.0,18002.0,17952.0,17902.0,17802.0,17752.0,17652.0,17553.0,17502.0,17402.0,17352.0],[17052.0,17002.0,16902.0,16802.0,16752.0,16702.0,16652.0,16602.0,16602.0,16552.0,16552.0,16502.0,16452.0,16402.0,16352.0,16302.0,16252.0],[16102.0,16052.0,16052.0,15952.0,15952.0,15952.0,15953.0,16052.0,16152.0,16302.0,16502.0,16652.0,16902.0,17103.0,17302.0,17552.0,17802.0],[17852.0,18102.0,18302.0,18602.0,18902.0,19102.0,19202.0,19202.0,19202.0,19252.0,19302.0,19302.0,19302.0,19352.0,19352.0,19352.0,19352.0],[19202.0,19152.0,19102.0,19002.0,18902.0,18752.0,18602.0,18452.0,18302.0,18202.0,18102.0,18002.0,17902.0,17802.0,17752.0,17652.0,17602.0],[17402.0,17352.0,17302.0,17252.0,17202.0,17152.0,17102.0,17052.0,17002.0,16952.0,16952.0,16853.0,16852.0,16802.0,16752.0,16652.0,16552.0],[16302.0,16252.0,16502.0,16502.0,16452.0,16402.0,16352.0,16302.0,16252.0,16252.0,16252.0,16202.0,16252.0,16252.0,16302.0,16352.0,16402.0],[16302.0,16352.0,16402.0,16452.0,16552.0,16602.0,16652.0,16702.0,16752.0,16802.0,16852.0,16902.0,16952.0,17003.0,17052.0,17052.0,17102.0],[16952.0,16952.0,17002.0,17052.0,17102.0,17152.0,17202.0,17252.0,17252.0,17153.0,17102.0,16952.0,16852.0,16752.0,16652.0,16602.0,16502.0],[16202.0,16102.0,15952.0,15852.0,15752.0,15602.0,15452.0,15302.0,15152.0,14952.0,14802.0,14652.0,14502.0,14352.0,14252.0,14102.0,13953.0],[13702.0,13602.0,13502.0,13402.0,13302.0,13202.0,13102.0,13003.0,12952.0,12852.0,12802.0,12702.0,12602.0,12502.0,12403.0,12352.0,12202.0],[11952.0,11902.0,11803.0,11802.0,11703.0,11652.0,11602.0,11503.0,11452.0,11402.0,11352.0,11253.0,11202.0,11153.0,11102.0,11052.0,11002.0],[10802.0,10752.0,10703.0,10652.0,10602.0,10552.0,10552.0,10502.0,10502.0,10502.0,10502.0,10502.0,10502.0,10502.0,10503.0,10552.0,10552.0],[10402.0,10402.0,10402.0,10402.0,10403.0,10452.0,10452.0,10452.0,10452.0,10502.0,10502.0,10502.0,10503.0,10552.0,10552.0,10602.0,10602.0]],\"type\":\"surface\",\"scene\":\"scene\",\"contours\":{\"z\":{\"project\":{\"z\":true},\"highlightcolor\":\"limegreen\",\"show\":true,\"usecolormap\":true}}},{\"colorscale\":[[0.0,\"#0508b8\"],[0.08333333333333333,\"#1910d8\"],[0.16666666666666666,\"#3c19f0\"],[0.25,\"#6b1cfb\"],[0.3333333333333333,\"#981cfd\"],[0.4166666666666667,\"#bf1cfd\"],[0.5,\"#dd2bfd\"],[0.5833333333333334,\"#f246fe\"],[0.6666666666666666,\"#fc67fd\"],[0.75,\"#fe88fc\"],[0.8333333333333334,\"#fea5fd\"],[0.9166666666666666,\"#febefe\"],[1.0,\"#fec3fe\"]],\"showscale\":false,\"x\":[0,1,2,3,4,5,6,7,8,9,10,11,12,13,14,15,16],\"y\":[0,1,2,3,4,5,6,7,8,9,10,11,12,13,14,15,16],\"z\":[[0.0009476666666666666,0.0009000000000000001,0.0008279999999999999,0.0008119999999999999,0.0008211666666666667,0.0008458333333333333,0.0008585,0.0008383333333333333,0.0008266666666666666,0.0008191666666666667,0.0008015,0.0007675,0.0007473333333333334,0.0007331666666666667,0.0007495000000000001,0.0007729999999999999,0.0007971666666666666],[0.0007611666666666666,0.0007446666666666666,0.000749,0.000754,0.0007756666666666667,0.0008529999999999999,0.0008665,0.0009015,0.0009058333333333335,0.0008438333333333333,0.0008181666666666667,0.0007856666666666667,0.0007621666666666666,0.0007678333333333334,0.0007663333333333333,0.0007721666666666667,0.0007803333333333334],[0.0007518333333333334,0.0007246666666666668,0.0007236666666666667,0.0007278333333333334,0.0007348333333333333,0.0007575,0.0007273333333333333,0.0007208333333333334,0.0007021666666666666,0.0006958333333333334,0.0006981666666666667,0.00068,0.000687,0.0006705,0.000657,0.0006431666666666668,0.0006456666666666667],[0.0006621666666666667,0.000646,0.0006450000000000001,0.0006535,0.0006453333333333334,0.0006443333333333333,0.0006683333333333333,0.0006478333333333333,0.0006628333333333334,0.0006776666666666667,0.000677,0.0006810000000000001,0.0006638333333333334,0.0006583333333333334,0.000666,0.0006668333333333334,0.0006881666666666667],[0.0006483333333333333,0.0006718333333333333,0.0006725,0.0006523333333333333,0.0006518333333333333,0.0006466666666666666,0.0006451666666666667,0.0006353333333333333,0.0006481666666666667,0.0006326666666666667,0.0006388333333333333,0.0006565,0.0006501666666666666,0.0006415,0.0006451666666666667,0.0006616666666666666,0.0006551666666666666],[0.0006933333333333335,0.0007109999999999999,0.0007458333333333333,0.000709,0.000723,0.0007186666666666666,0.0007151666666666668,0.0007371666666666667,0.0007639999999999999,0.0008186666666666667,0.0008648333333333333,0.0008926666666666666,0.0009260000000000001,0.0009125000000000001,0.0009073333333333333,0.0009123333333333332,0.0009069999999999999],[0.0008698333333333332,0.0008333333333333332,0.0008438333333333333,0.0008380000000000001,0.0008801666666666667,0.0008985,0.0008590000000000001,0.0008108333333333334,0.000759,0.000738,0.0007346666666666668,0.0007353333333333334,0.0007265,0.0007378333333333333,0.0007321666666666666,0.0007298333333333333,0.000736],[0.0007356666666666667,0.0007191666666666667,0.0007048333333333334,0.0006795,0.0006658333333333334,0.0006518333333333333,0.0006521666666666667,0.0006456666666666667,0.0006433333333333333,0.0006456666666666667,0.0006491666666666667,0.0006606666666666666,0.0006528333333333334,0.0006549999999999999,0.0006816666666666667,0.00066,0.000669],[0.0006441666666666666,0.0006468333333333334,0.0006378333333333334,0.0006385000000000001,0.0006396666666666666,0.0006218333333333333,0.0006165000000000001,0.0006064999999999999,0.0005961666666666667,0.0005929999999999999,0.0006068333333333334,0.0005916666666666667,0.0006091666666666666,0.0006236666666666667,0.0006439999999999999,0.0006473333333333334,0.0006546666666666667],[0.0006423333333333333,0.0006403333333333334,0.0006241666666666666,0.0006231666666666667,0.0006176666666666666,0.0006206666666666666,0.000621,0.0006090000000000001,0.0006091666666666667,0.0006206666666666666,0.000638,0.0006293333333333333,0.0006418333333333333,0.0006343333333333334,0.0006259999999999999,0.0006148333333333334,0.0006078333333333334],[0.0005976666666666667,0.0006141666666666666,0.0006176666666666666,0.0006073333333333334,0.0006131666666666667,0.0006208333333333334,0.0006103333333333334,0.0006086666666666666,0.0006093333333333333,0.0006035,0.000597,0.0005991666666666667,0.000613,0.0006131666666666667,0.0006056666666666667,0.0005975,0.0006036666666666667],[0.0006028333333333333,0.0006046666666666667,0.0006176666666666666,0.0006143333333333334,0.0006063333333333333,0.0006023333333333333,0.0005985,0.0005898333333333334,0.0005908333333333333,0.0006093333333333333,0.0006388333333333333,0.000648,0.0006578333333333333,0.0006684999999999999,0.0006666666666666666,0.0006581666666666667,0.0006476666666666666],[0.0006318333333333333,0.0006188333333333333,0.0006396666666666667,0.0006576666666666666,0.0006691666666666665,0.0006873333333333333,0.0006864999999999999,0.0006766666666666666,0.0006733333333333334,0.0006803333333333332,0.0006645,0.0006511666666666666,0.0006423333333333333,0.0006383333333333333,0.0006341666666666667,0.0006526666666666667,0.0006588333333333333],[0.0006679999999999999,0.0006678333333333333,0.0006688333333333333,0.0006853333333333334,0.0006941666666666667,0.0006958333333333334,0.0007075000000000001,0.0007171666666666667,0.0007036666666666667,0.0007135,0.0006866666666666667,0.0007151666666666666,0.0007003333333333333,0.0006911666666666666,0.0006943333333333334,0.0006821666666666665,0.0006846666666666666],[0.0006895,0.0006813333333333333,0.0006965,0.0006734999999999999,0.0006864999999999999,0.0006814999999999999,0.0006843333333333333,0.0006998333333333332,0.0006981666666666667,0.0007073333333333334,0.0007038333333333333,0.0007125,0.0007265,0.000729,0.0007331666666666667,0.000731,0.0007231666666666667],[0.0007458333333333333,0.000751,0.0007543333333333333,0.000751,0.0007430000000000001,0.0007408333333333334,0.0007165,0.0007013333333333333,0.0006985,0.0006893333333333334,0.0006731666666666666,0.0006831666666666667,0.0006898333333333334,0.0006905,0.0006996666666666667,0.0006701666666666667,0.0006768333333333334],[0.0006986666666666666,0.0007023333333333333,0.000697,0.0007044999999999999,0.000709,0.0006913333333333333,0.0006998333333333332,0.0007055,0.000726,0.0007066666666666666,0.0007245,0.0007293333333333332,0.0007498333333333333,0.0007411666666666666,0.0007701666666666667,0.000733,0.0007321666666666666]],\"type\":\"surface\",\"scene\":\"scene2\",\"contours\":{\"z\":{\"project\":{\"z\":true},\"highlightcolor\":\"limegreen\",\"show\":true,\"usecolormap\":true}}},{\"colorscale\":[[0.0,\"#0508b8\"],[0.08333333333333333,\"#1910d8\"],[0.16666666666666666,\"#3c19f0\"],[0.25,\"#6b1cfb\"],[0.3333333333333333,\"#981cfd\"],[0.4166666666666667,\"#bf1cfd\"],[0.5,\"#dd2bfd\"],[0.5833333333333334,\"#f246fe\"],[0.6666666666666666,\"#fc67fd\"],[0.75,\"#fe88fc\"],[0.8333333333333334,\"#fea5fd\"],[0.9166666666666666,\"#febefe\"],[1.0,\"#fec3fe\"]],\"showscale\":false,\"x\":[0,1,2,3,4,5,6,7,8,9,10,11,12,13,14,15,16],\"y\":[0,1,2,3,4,5,6,7,8,9,10,11,12,13,14,15,16],\"z\":[[-0.0010499,-0.0010205333333333335,-0.0009271,-0.0008886333333333333,-0.0009415333333333333,-0.0009352000000000001,-0.0009619333333333334,-0.0009483333333333333,-0.0009611333333333333,-0.0009519,-0.0008945666666666666,-0.0008466666666666667,-0.0008889666666666668,-0.0008360333333333334,-0.0008541666666666667,-0.0008303999999999999,-0.0008453666666666666],[-0.0008127,-0.0008441666666666667,-0.0007965666666666666,-0.0008774999999999999,-0.0008801333333333334,-0.0009792666666666667,-0.0009356,-0.0010460666666666665,-0.0009878,-0.0008902666666666667,-0.0008876666666666667,-0.0008667333333333333,-0.0008885333333333334,-0.0008686000000000001,-0.0008942333333333334,-0.0008200333333333334,-0.0008554333333333332],[-0.0008104666666666668,-0.0008473,-0.00079,-0.0008139666666666668,-0.0008054333333333332,-0.0008423666666666666,-0.0008476333333333332,-0.0008614333333333333,-0.0007924666666666667,-0.000745,-0.0007667666666666666,-0.0007167333333333334,-0.0007693999999999999,-0.0007452,-0.0007726666666666667,-0.0007393666666666667,-0.0006975666666666666],[-0.0007579,-0.0007463333333333333,-0.0007239666666666667,-0.0007227666666666665,-0.0006810000000000001,-0.0006971666666666667,-0.0007225,-0.0007115666666666666,-0.0007195999999999999,-0.0007541333333333333,-0.0007552333333333333,-0.0007799,-0.0007768666666666666,-0.0007398666666666667,-0.0007689333333333334,-0.0007696999999999999,-0.0007628333333333332],[-0.0007323999999999999,-0.0007122,-0.0007777333333333332,-0.0007633333333333333,-0.0006987666666666667,-0.0007260666666666667,-0.0007569666666666667,-0.0006693,-0.0007348333333333333,-0.0006966,-0.0007443333333333334,-0.0007561666666666666,-0.0007169666666666667,-0.0007382999999999999,-0.0007376666666666667,-0.0007112,-0.0007133],[-0.0007871666666666666,-0.0007465666666666666,-0.0008511333333333333,-0.0007809666666666668,-0.0007758,-0.0008121,-0.000832,-0.0008312666666666666,-0.0008654,-0.0009040666666666667,-0.0009821333333333334,-0.001017,-0.0010352,-0.0010153666666666667,-0.0010090666666666666,-0.0010147666666666666,-0.0010122666666666667],[-0.0009802333333333334,-0.0008724000000000001,-0.0009259,-0.0009653666666666667,-0.001,-0.0010026999999999998,-0.0009597,-0.0008905333333333334,-0.0008272,-0.0008265999999999999,-0.0008020666666666666,-0.0008304666666666666,-0.0007821,-0.0008126666666666667,-0.0008103333333333334,-0.0008115666666666668,-0.0008019999999999999],[-0.0008303000000000001,-0.0007825666666666668,-0.0007968333333333333,-0.0007289999999999999,-0.0007422666666666667,-0.0006815666666666666,-0.0007476000000000001,-0.0007227666666666665,-0.0007133333333333333,-0.0007234333333333334,-0.0007207333333333335,-0.0007652333333333333,-0.0007196,-0.0007327333333333333,-0.0007760333333333333,-0.0007137,-0.0007461666666666667],[-0.0007058,-0.0007327333333333333,-0.0006920999999999999,-0.0007080333333333334,-0.0007145333333333333,-0.0006858333333333333,-0.0006928,-0.0006689666666666666,-0.0006658333333333334,-0.0006650666666666666,-0.0006610333333333333,-0.0006431000000000001,-0.0006699666666666668,-0.0006549666666666667,-0.0006924333333333333,-0.0007502666666666666,-0.0007326333333333334],[-0.0007057666666666667,-0.0007075000000000001,-0.0006763,-0.0006656,-0.0006375666666666666,-0.0006733666666666666,-0.0007022666666666666,-0.0007067333333333333,-0.000663,-0.0007042333333333334,-0.0007278000000000001,-0.0006767666666666667,-0.0007636666666666667,-0.0006855,-0.0006786666666666667,-0.0006494,-0.0006795666666666667],[-0.0006526,-0.0006651333333333333,-0.000648,-0.0006454,-0.0006743333333333333,-0.0006901333333333334,-0.0006671,-0.0006630000000000001,-0.0006754333333333333,-0.0006565999999999999,-0.0006480666666666667,-0.0006392666666666666,-0.0006895666666666666,-0.0006941666666666667,-0.0006822666666666667,-0.0006402666666666667,-0.0006535333333333332],[-0.0006610000000000001,-0.0006564333333333334,-0.0006715333333333334,-0.0006689333333333333,-0.0006695666666666667,-0.0006659333333333333,-0.0006903333333333333,-0.0006423666666666667,-0.0006504666666666666,-0.0006697333333333333,-0.0007258999999999999,-0.0006988,-0.0007305666666666666,-0.0007068666666666668,-0.0007296666666666667,-0.0007184666666666667,-0.0007306000000000001],[-0.0006938666666666667,-0.0006639666666666666,-0.0007043,-0.0006919666666666668,-0.0007308000000000001,-0.0007611333333333334,-0.0007282333333333333,-0.0007484000000000001,-0.0007363333333333333,-0.0007378333333333334,-0.0007011333333333333,-0.0007099333333333334,-0.0006894000000000001,-0.0006709,-0.0006823666666666666,-0.0006931333333333333,-0.0007111],[-0.0007179333333333333,-0.0007507,-0.0007287666666666667,-0.0007646333333333333,-0.0007477,-0.0007479,-0.0007546666666666668,-0.0007997000000000001,-0.0007534,-0.0007765,-0.0007403333333333333,-0.0007908333333333332,-0.0007630666666666666,-0.0007597666666666666,-0.0007329333333333333,-0.0007457000000000001,-0.0007736666666666668],[-0.0007580333333333332,-0.0007623666666666666,-0.0007458333333333333,-0.0007182333333333332,-0.0007401333333333333,-0.0007338333333333333,-0.0007490666666666667,-0.0007626333333333332,-0.0007704333333333333,-0.0007331333333333332,-0.0007775,-0.0007618333333333334,-0.0008070666666666667,-0.0007676666666666668,-0.0008198333333333333,-0.0008078666666666666,-0.0007821],[-0.0007924333333333334,-0.0008176999999999999,-0.0008132666666666666,-0.0008239666666666666,-0.0007945333333333333,-0.0008132,-0.0007970666666666667,-0.000762,-0.0007585,-0.0007315666666666666,-0.0007584333333333334,-0.0007593666666666667,-0.0007316666666666666,-0.0007583,-0.0007567666666666666,-0.0007196,-0.0007383],[-0.0007127,-0.0007549000000000001,-0.0007623333333333333,-0.0007674333333333334,-0.0007673666666666667,-0.0007145666666666667,-0.0007239,-0.0007313666666666666,-0.0007975,-0.0007231333333333334,-0.0007379999999999999,-0.0007747,-0.0008065,-0.0007655333333333334,-0.0007783,-0.0007886666666666667,-0.0008355333333333333]],\"type\":\"surface\",\"scene\":\"scene3\",\"contours\":{\"z\":{\"project\":{\"z\":true},\"highlightcolor\":\"limegreen\",\"show\":true,\"usecolormap\":true}}}],                        {\"template\":{\"data\":{\"histogram2dcontour\":[{\"type\":\"histogram2dcontour\",\"colorbar\":{\"outlinewidth\":0,\"ticks\":\"\"},\"colorscale\":[[0.0,\"#0d0887\"],[0.1111111111111111,\"#46039f\"],[0.2222222222222222,\"#7201a8\"],[0.3333333333333333,\"#9c179e\"],[0.4444444444444444,\"#bd3786\"],[0.5555555555555556,\"#d8576b\"],[0.6666666666666666,\"#ed7953\"],[0.7777777777777778,\"#fb9f3a\"],[0.8888888888888888,\"#fdca26\"],[1.0,\"#f0f921\"]]}],\"choropleth\":[{\"type\":\"choropleth\",\"colorbar\":{\"outlinewidth\":0,\"ticks\":\"\"}}],\"histogram2d\":[{\"type\":\"histogram2d\",\"colorbar\":{\"outlinewidth\":0,\"ticks\":\"\"},\"colorscale\":[[0.0,\"#0d0887\"],[0.1111111111111111,\"#46039f\"],[0.2222222222222222,\"#7201a8\"],[0.3333333333333333,\"#9c179e\"],[0.4444444444444444,\"#bd3786\"],[0.5555555555555556,\"#d8576b\"],[0.6666666666666666,\"#ed7953\"],[0.7777777777777778,\"#fb9f3a\"],[0.8888888888888888,\"#fdca26\"],[1.0,\"#f0f921\"]]}],\"heatmap\":[{\"type\":\"heatmap\",\"colorbar\":{\"outlinewidth\":0,\"ticks\":\"\"},\"colorscale\":[[0.0,\"#0d0887\"],[0.1111111111111111,\"#46039f\"],[0.2222222222222222,\"#7201a8\"],[0.3333333333333333,\"#9c179e\"],[0.4444444444444444,\"#bd3786\"],[0.5555555555555556,\"#d8576b\"],[0.6666666666666666,\"#ed7953\"],[0.7777777777777778,\"#fb9f3a\"],[0.8888888888888888,\"#fdca26\"],[1.0,\"#f0f921\"]]}],\"heatmapgl\":[{\"type\":\"heatmapgl\",\"colorbar\":{\"outlinewidth\":0,\"ticks\":\"\"},\"colorscale\":[[0.0,\"#0d0887\"],[0.1111111111111111,\"#46039f\"],[0.2222222222222222,\"#7201a8\"],[0.3333333333333333,\"#9c179e\"],[0.4444444444444444,\"#bd3786\"],[0.5555555555555556,\"#d8576b\"],[0.6666666666666666,\"#ed7953\"],[0.7777777777777778,\"#fb9f3a\"],[0.8888888888888888,\"#fdca26\"],[1.0,\"#f0f921\"]]}],\"contourcarpet\":[{\"type\":\"contourcarpet\",\"colorbar\":{\"outlinewidth\":0,\"ticks\":\"\"}}],\"contour\":[{\"type\":\"contour\",\"colorbar\":{\"outlinewidth\":0,\"ticks\":\"\"},\"colorscale\":[[0.0,\"#0d0887\"],[0.1111111111111111,\"#46039f\"],[0.2222222222222222,\"#7201a8\"],[0.3333333333333333,\"#9c179e\"],[0.4444444444444444,\"#bd3786\"],[0.5555555555555556,\"#d8576b\"],[0.6666666666666666,\"#ed7953\"],[0.7777777777777778,\"#fb9f3a\"],[0.8888888888888888,\"#fdca26\"],[1.0,\"#f0f921\"]]}],\"surface\":[{\"type\":\"surface\",\"colorbar\":{\"outlinewidth\":0,\"ticks\":\"\"},\"colorscale\":[[0.0,\"#0d0887\"],[0.1111111111111111,\"#46039f\"],[0.2222222222222222,\"#7201a8\"],[0.3333333333333333,\"#9c179e\"],[0.4444444444444444,\"#bd3786\"],[0.5555555555555556,\"#d8576b\"],[0.6666666666666666,\"#ed7953\"],[0.7777777777777778,\"#fb9f3a\"],[0.8888888888888888,\"#fdca26\"],[1.0,\"#f0f921\"]]}],\"mesh3d\":[{\"type\":\"mesh3d\",\"colorbar\":{\"outlinewidth\":0,\"ticks\":\"\"}}],\"scatter\":[{\"fillpattern\":{\"fillmode\":\"overlay\",\"size\":10,\"solidity\":0.2},\"type\":\"scatter\"}],\"parcoords\":[{\"type\":\"parcoords\",\"line\":{\"colorbar\":{\"outlinewidth\":0,\"ticks\":\"\"}}}],\"scatterpolargl\":[{\"type\":\"scatterpolargl\",\"marker\":{\"colorbar\":{\"outlinewidth\":0,\"ticks\":\"\"}}}],\"bar\":[{\"error_x\":{\"color\":\"#2a3f5f\"},\"error_y\":{\"color\":\"#2a3f5f\"},\"marker\":{\"line\":{\"color\":\"#E5ECF6\",\"width\":0.5},\"pattern\":{\"fillmode\":\"overlay\",\"size\":10,\"solidity\":0.2}},\"type\":\"bar\"}],\"scattergeo\":[{\"type\":\"scattergeo\",\"marker\":{\"colorbar\":{\"outlinewidth\":0,\"ticks\":\"\"}}}],\"scatterpolar\":[{\"type\":\"scatterpolar\",\"marker\":{\"colorbar\":{\"outlinewidth\":0,\"ticks\":\"\"}}}],\"histogram\":[{\"marker\":{\"pattern\":{\"fillmode\":\"overlay\",\"size\":10,\"solidity\":0.2}},\"type\":\"histogram\"}],\"scattergl\":[{\"type\":\"scattergl\",\"marker\":{\"colorbar\":{\"outlinewidth\":0,\"ticks\":\"\"}}}],\"scatter3d\":[{\"type\":\"scatter3d\",\"line\":{\"colorbar\":{\"outlinewidth\":0,\"ticks\":\"\"}},\"marker\":{\"colorbar\":{\"outlinewidth\":0,\"ticks\":\"\"}}}],\"scattermapbox\":[{\"type\":\"scattermapbox\",\"marker\":{\"colorbar\":{\"outlinewidth\":0,\"ticks\":\"\"}}}],\"scatterternary\":[{\"type\":\"scatterternary\",\"marker\":{\"colorbar\":{\"outlinewidth\":0,\"ticks\":\"\"}}}],\"scattercarpet\":[{\"type\":\"scattercarpet\",\"marker\":{\"colorbar\":{\"outlinewidth\":0,\"ticks\":\"\"}}}],\"carpet\":[{\"aaxis\":{\"endlinecolor\":\"#2a3f5f\",\"gridcolor\":\"white\",\"linecolor\":\"white\",\"minorgridcolor\":\"white\",\"startlinecolor\":\"#2a3f5f\"},\"baxis\":{\"endlinecolor\":\"#2a3f5f\",\"gridcolor\":\"white\",\"linecolor\":\"white\",\"minorgridcolor\":\"white\",\"startlinecolor\":\"#2a3f5f\"},\"type\":\"carpet\"}],\"table\":[{\"cells\":{\"fill\":{\"color\":\"#EBF0F8\"},\"line\":{\"color\":\"white\"}},\"header\":{\"fill\":{\"color\":\"#C8D4E3\"},\"line\":{\"color\":\"white\"}},\"type\":\"table\"}],\"barpolar\":[{\"marker\":{\"line\":{\"color\":\"#E5ECF6\",\"width\":0.5},\"pattern\":{\"fillmode\":\"overlay\",\"size\":10,\"solidity\":0.2}},\"type\":\"barpolar\"}],\"pie\":[{\"automargin\":true,\"type\":\"pie\"}]},\"layout\":{\"autotypenumbers\":\"strict\",\"colorway\":[\"#636efa\",\"#EF553B\",\"#00cc96\",\"#ab63fa\",\"#FFA15A\",\"#19d3f3\",\"#FF6692\",\"#B6E880\",\"#FF97FF\",\"#FECB52\"],\"font\":{\"color\":\"#2a3f5f\"},\"hovermode\":\"closest\",\"hoverlabel\":{\"align\":\"left\"},\"paper_bgcolor\":\"white\",\"plot_bgcolor\":\"#E5ECF6\",\"polar\":{\"bgcolor\":\"#E5ECF6\",\"angularaxis\":{\"gridcolor\":\"white\",\"linecolor\":\"white\",\"ticks\":\"\"},\"radialaxis\":{\"gridcolor\":\"white\",\"linecolor\":\"white\",\"ticks\":\"\"}},\"ternary\":{\"bgcolor\":\"#E5ECF6\",\"aaxis\":{\"gridcolor\":\"white\",\"linecolor\":\"white\",\"ticks\":\"\"},\"baxis\":{\"gridcolor\":\"white\",\"linecolor\":\"white\",\"ticks\":\"\"},\"caxis\":{\"gridcolor\":\"white\",\"linecolor\":\"white\",\"ticks\":\"\"}},\"coloraxis\":{\"colorbar\":{\"outlinewidth\":0,\"ticks\":\"\"}},\"colorscale\":{\"sequential\":[[0.0,\"#0d0887\"],[0.1111111111111111,\"#46039f\"],[0.2222222222222222,\"#7201a8\"],[0.3333333333333333,\"#9c179e\"],[0.4444444444444444,\"#bd3786\"],[0.5555555555555556,\"#d8576b\"],[0.6666666666666666,\"#ed7953\"],[0.7777777777777778,\"#fb9f3a\"],[0.8888888888888888,\"#fdca26\"],[1.0,\"#f0f921\"]],\"sequentialminus\":[[0.0,\"#0d0887\"],[0.1111111111111111,\"#46039f\"],[0.2222222222222222,\"#7201a8\"],[0.3333333333333333,\"#9c179e\"],[0.4444444444444444,\"#bd3786\"],[0.5555555555555556,\"#d8576b\"],[0.6666666666666666,\"#ed7953\"],[0.7777777777777778,\"#fb9f3a\"],[0.8888888888888888,\"#fdca26\"],[1.0,\"#f0f921\"]],\"diverging\":[[0,\"#8e0152\"],[0.1,\"#c51b7d\"],[0.2,\"#de77ae\"],[0.3,\"#f1b6da\"],[0.4,\"#fde0ef\"],[0.5,\"#f7f7f7\"],[0.6,\"#e6f5d0\"],[0.7,\"#b8e186\"],[0.8,\"#7fbc41\"],[0.9,\"#4d9221\"],[1,\"#276419\"]]},\"xaxis\":{\"gridcolor\":\"white\",\"linecolor\":\"white\",\"ticks\":\"\",\"title\":{\"standoff\":15},\"zerolinecolor\":\"white\",\"automargin\":true,\"zerolinewidth\":2},\"yaxis\":{\"gridcolor\":\"white\",\"linecolor\":\"white\",\"ticks\":\"\",\"title\":{\"standoff\":15},\"zerolinecolor\":\"white\",\"automargin\":true,\"zerolinewidth\":2},\"scene\":{\"xaxis\":{\"backgroundcolor\":\"#E5ECF6\",\"gridcolor\":\"white\",\"linecolor\":\"white\",\"showbackground\":true,\"ticks\":\"\",\"zerolinecolor\":\"white\",\"gridwidth\":2},\"yaxis\":{\"backgroundcolor\":\"#E5ECF6\",\"gridcolor\":\"white\",\"linecolor\":\"white\",\"showbackground\":true,\"ticks\":\"\",\"zerolinecolor\":\"white\",\"gridwidth\":2},\"zaxis\":{\"backgroundcolor\":\"#E5ECF6\",\"gridcolor\":\"white\",\"linecolor\":\"white\",\"showbackground\":true,\"ticks\":\"\",\"zerolinecolor\":\"white\",\"gridwidth\":2}},\"shapedefaults\":{\"line\":{\"color\":\"#2a3f5f\"}},\"annotationdefaults\":{\"arrowcolor\":\"#2a3f5f\",\"arrowhead\":0,\"arrowwidth\":1},\"geo\":{\"bgcolor\":\"white\",\"landcolor\":\"#E5ECF6\",\"subunitcolor\":\"white\",\"showland\":true,\"showlakes\":true,\"lakecolor\":\"white\"},\"title\":{\"x\":0.05},\"mapbox\":{\"style\":\"light\"}}},\"scene\":{\"domain\":{\"x\":[0.0,0.2888888888888889],\"y\":[0.0,1.0]}},\"scene2\":{\"domain\":{\"x\":[0.35555555555555557,0.6444444444444445],\"y\":[0.0,1.0]}},\"scene3\":{\"domain\":{\"x\":[0.7111111111111111,1.0],\"y\":[0.0,1.0]}},\"title\":{\"text\":\"AFM, Lockin, Multimeter data results\"},\"height\":500,\"width\":1200},                        {\"responsive\": true}                    ).then(function(){\n",
       "                            \n",
       "var gd = document.getElementById('19dfbe69-d586-4bb5-a5c2-e27ab9815791');\n",
       "var x = new MutationObserver(function (mutations, observer) {{\n",
       "        var display = window.getComputedStyle(gd).display;\n",
       "        if (!display || display === 'none') {{\n",
       "            console.log([gd, 'removed!']);\n",
       "            Plotly.purge(gd);\n",
       "            observer.disconnect();\n",
       "        }}\n",
       "}});\n",
       "\n",
       "// Listen for the removal of the full notebook cells\n",
       "var notebookContainer = gd.closest('#notebook-container');\n",
       "if (notebookContainer) {{\n",
       "    x.observe(notebookContainer, {childList: true});\n",
       "}}\n",
       "\n",
       "// Listen for the clearing of the current output cell\n",
       "var outputEl = gd.closest('.output');\n",
       "if (outputEl) {{\n",
       "    x.observe(outputEl, {childList: true});\n",
       "}}\n",
       "\n",
       "                        })                };                });            </script>        </div>"
      ]
     },
     "metadata": {},
     "output_type": "display_data"
    }
   ],
   "source": [
    "import plotly.graph_objects as go\n",
    "from plotly.subplots import make_subplots\n",
    "\n",
    "\n",
    "def plotdata(afm,lockin,multimeter,**kwargs):\n",
    "    fig = make_subplots(\n",
    "        rows=1, cols=3,\n",
    "        specs=[[{'type': 'surface'}, {'type': 'surface'},{'type': 'surface'}]])\n",
    "\n",
    "    # Generate data\n",
    "    nx = afm.shape[0]\n",
    "    ny = afm.shape[1]\n",
    "    x = np.arange(0, nx, 1)\n",
    "    y = np.arange(0, ny, 1)\n",
    "    fig.add_trace(\n",
    "        go.Surface(x=x, y=y, z=afm, colorscale='Plotly3',showscale=False),\n",
    "        row=1, col=1)\n",
    "    fig.update_traces(contours_z=dict(show=True, usecolormap=True,highlightcolor=\"limegreen\", project_z=True))\n",
    "\n",
    "    fig.add_trace(\n",
    "        go.Surface(x=x, y=y, z=lockin, colorscale='Plotly3',showscale=False),\n",
    "        row=1, col=2)\n",
    "    fig.update_traces(contours_z=dict(show=True, usecolormap=True,highlightcolor=\"limegreen\", project_z=True))\n",
    "\n",
    "    fig.add_trace(\n",
    "        go.Surface(x=x, y=y, z=multimeter, colorscale='Plotly3',showscale=False),\n",
    "        row=1, col=3)\n",
    "    fig.update_traces(contours_z=dict(show=True, usecolormap=True,highlightcolor=\"limegreen\", project_z=True))\n",
    "\n",
    "    fig.update_layout(\n",
    "        title_text='AFM, Lockin, Multimeter data results',\n",
    "        height=500,\n",
    "        width=1200,\n",
    "        #margin=dict(l=50, r=50, b=30, t=35)\n",
    "    )\n",
    "\n",
    "    fig.show()\n",
    "plotdata(afm,lockin,multimeter)"
   ]
  }
 ],
 "metadata": {
  "kernelspec": {
   "display_name": "Python 3.10.4 ('analysis')",
   "language": "python",
   "name": "python3"
  },
  "language_info": {
   "codemirror_mode": {
    "name": "ipython",
    "version": 3
   },
   "file_extension": ".py",
   "mimetype": "text/x-python",
   "name": "python",
   "nbconvert_exporter": "python",
   "pygments_lexer": "ipython3",
   "version": "3.10.4"
  },
  "orig_nbformat": 4,
  "vscode": {
   "interpreter": {
    "hash": "df25c19a347952bfe2454233f6a75c22b3faf5a612c0c19bb8226f0bd8aea55f"
   }
  }
 },
 "nbformat": 4,
 "nbformat_minor": 2
}
