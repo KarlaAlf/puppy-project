{
 "cells": [
  {
   "cell_type": "code",
   "execution_count": 1,
   "metadata": {},
   "outputs": [
    {
     "data": {
      "text/plain": [
       "['/media/labfiles/lab-exps/nano-lab/pits',\n",
       " '/media/labfiles/lab-exps/nano-lab/grating',\n",
       " '/media/labfiles/lab-exps/nano-lab/grating_InP',\n",
       " '/media/labfiles/lab-exps/nano-lab/pictures',\n",
       " '/media/labfiles/lab-exps/nano-lab/exp']"
      ]
     },
     "execution_count": 1,
     "metadata": {},
     "output_type": "execute_result"
    }
   ],
   "source": [
    "import numpy as np\n",
    "import matplotlib.pyplot as plt\n",
    "import h5py as h5\n",
    "import os\n",
    "import glob\n",
    "from os import walk\n",
    "from mpl_toolkits.mplot3d import Axes3D\n",
    "from matplotlib.gridspec import GridSpec\n",
    "from IPython.display import display, clear_output\n",
    "from labexp import experiments\n",
    "from mpl_toolkits.axes_grid1 import make_axes_locatable,ImageGrid\n",
    "from mpl_toolkits.axes_grid1 import AxesGrid\n",
    "from matplotlib.gridspec import GridSpec\n",
    "plt.style.use('/media/labfiles/lab-codes/plot-styles/plotstyle.mplstyle')\n",
    "\n",
    "exp= experiments('nano-lab','nsom','grating_InP',False)\n",
    "exp.folder_samples\n",
    "\n"
   ]
  },
  {
   "cell_type": "code",
   "execution_count": 13,
   "metadata": {},
   "outputs": [
    {
     "data": {
      "text/plain": [
       "['grating_InP/exp_2022-04/exp_2022_15_04_nsom',\n",
       " 'grating_InP/exp_2022-04/exp_2022_18_04_nsom',\n",
       " 'grating_InP/exp_2022-04/exp_2022_19_04_nsom',\n",
       " 'grating_InP/exp_2022-04/exp_2022_20_04_nsom',\n",
       " 'grating_InP/exp_2022-04/exp_2022_22_04_nsom',\n",
       " 'grating_InP/exp_2022-04/exp_2022_23_04_nsom',\n",
       " 'grating_InP/exp_2022-04/exp_2022_24_04_nsom',\n",
       " 'grating_InP/exp_2022-04/exp_2022_25_04_nsom',\n",
       " 'grating_InP/exp_2022-05/exp_2022_06_05_nsom',\n",
       " 'grating_InP/exp_2022-05/exp_2022_07_05_nsom',\n",
       " 'grating_InP/exp_2022-05/exp_2022_09_05_nsom',\n",
       " 'grating_InP/exp_2022-05/exp_2022_11_05_nsom']"
      ]
     },
     "execution_count": 13,
     "metadata": {},
     "output_type": "execute_result"
    }
   ],
   "source": [
    "from itertools import count\n",
    "\n",
    "\n",
    "count=0\n",
    "for i in exp.dframe['Name Dir'].tolist():\n",
    "    if i == exp.dframe['Name Dir'].tolist()[3]:\n",
    "        break\n",
    "    else:\n",
    "        count+=1\n",
    "\n",
    "count\n",
    "exp.dframe['Name Dir'].tolist()\n",
    "\n"
   ]
  },
  {
   "cell_type": "code",
   "execution_count": 26,
   "metadata": {},
   "outputs": [
    {
     "data": {
      "text/plain": [
       "['/media/labfiles/lab-exps/nano-lab/grating_InP/exp_2022-03/exp_2022_31_03_afm/rejillatest3.h5',\n",
       " '/media/labfiles/lab-exps/nano-lab/grating_InP/exp_2022-03/exp_2022_31_03_afm/test_grating_31_03_1.h5',\n",
       " '/media/labfiles/lab-exps/nano-lab/grating_InP/exp_2022-03/exp_2022_31_03_afm/test_grating_31_03_2.h5',\n",
       " '/media/labfiles/lab-exps/nano-lab/grating_InP/exp_2022-03/exp_2022_31_03_afm/testrejilla3_micro.h5']"
      ]
     },
     "execution_count": 26,
     "metadata": {},
     "output_type": "execute_result"
    }
   ],
   "source": [
    "files"
   ]
  }
 ],
 "metadata": {
  "kernelspec": {
   "display_name": "Python 3.9.12 ('base')",
   "language": "python",
   "name": "python3"
  },
  "language_info": {
   "codemirror_mode": {
    "name": "ipython",
    "version": 3
   },
   "file_extension": ".py",
   "mimetype": "text/x-python",
   "name": "python",
   "nbconvert_exporter": "python",
   "pygments_lexer": "ipython3",
   "version": "3.9.13"
  },
  "orig_nbformat": 4,
  "vscode": {
   "interpreter": {
    "hash": "5a792185954b6f3a19089c02688d73d51037e5be0ebbe11a7ac93b3cfbfd3a83"
   }
  }
 },
 "nbformat": 4,
 "nbformat_minor": 2
}
