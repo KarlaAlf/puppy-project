{
 "cells": [
  {
   "cell_type": "code",
   "execution_count": 5,
   "metadata": {},
   "outputs": [
    {
     "name": "stdout",
     "output_type": "stream",
     "text": [
      "|  No. Dir  | Name Dir                                         |  No. files  |\n",
      "|-----------|--------------------------------------------------|-------------|\n",
      "|     0     | nano/grating_InP/exp_2022-04/exp_2022_15_04_nsom |      2      |\n",
      "|     1     | nano/grating_InP/exp_2022-04/exp_2022_18_04_nsom |      2      |\n",
      "|     2     | nano/grating_InP/exp_2022-04/exp_2022_19_04_nsom |      2      |\n",
      "|     3     | nano/grating_InP/exp_2022-04/exp_2022_20_04_nsom |      2      |\n",
      "|     4     | nano/grating_InP/exp_2022-04/exp_2022_22_04_nsom |      6      |\n",
      "|     5     | nano/grating_InP/exp_2022-04/exp_2022_23_04_nsom |      6      |\n",
      "|     6     | nano/grating_InP/exp_2022-04/exp_2022_24_04_nsom |      4      |\n",
      "|     7     | nano/grating_InP/exp_2022-04/exp_2022_25_04_nsom |      2      |\n",
      "|     8     | nano/grating_InP/exp_2022-05/exp_2022_06_05_nsom |      6      |\n",
      "|     9     | nano/grating_InP/exp_2022-05/exp_2022_07_05_nsom |      6      |\n",
      "|    10     | nano/grating_InP/exp_2022-05/exp_2022_09_05_nsom |      2      |\n",
      "|    11     | nano/grating_InP/exp_2022-05/exp_2022_11_05_nsom |      2      |\n"
     ]
    }
   ],
   "source": [
    "import numpy as np\n",
    "import matplotlib.pyplot as plt\n",
    "import h5py as h5\n",
    "import os\n",
    "import glob\n",
    "from os import walk\n",
    "from mpl_toolkits.mplot3d import Axes3D\n",
    "from matplotlib.gridspec import GridSpec\n",
    "from IPython.display import display, clear_output\n",
    "from labexp import experiments\n",
    "\n",
    "from mpl_toolkits.axes_grid1 import make_axes_locatable,ImageGrid\n",
    "from mpl_toolkits.axes_grid1 import AxesGrid\n",
    "from matplotlib.gridspec import GridSpec\n",
    "plt.style.use('/media/labfiles/lab-codes/plot-styles/plotstyle.mplstyle')\n",
    "\n",
    "exp3 = experiments(1,'nano','nsom','grating_InP',True)"
   ]
  }
 ],
 "metadata": {
  "kernelspec": {
   "display_name": "Python 3.9.12 ('base')",
   "language": "python",
   "name": "python3"
  },
  "language_info": {
   "codemirror_mode": {
    "name": "ipython",
    "version": 3
   },
   "file_extension": ".py",
   "mimetype": "text/x-python",
   "name": "python",
   "nbconvert_exporter": "python",
   "pygments_lexer": "ipython3",
   "version": "3.9.13"
  },
  "orig_nbformat": 4,
  "vscode": {
   "interpreter": {
    "hash": "5a792185954b6f3a19089c02688d73d51037e5be0ebbe11a7ac93b3cfbfd3a83"
   }
  }
 },
 "nbformat": 4,
 "nbformat_minor": 2
}
