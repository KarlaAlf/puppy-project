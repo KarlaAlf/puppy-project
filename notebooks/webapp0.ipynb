{
 "cells": [
  {
   "cell_type": "code",
   "execution_count": 12,
   "metadata": {},
   "outputs": [
    {
     "data": {
      "text/plain": [
       "[['exp_2022-04',\n",
       "  'exp_2022-01',\n",
       "  'exp_2022-09',\n",
       "  'exp_2021-11',\n",
       "  'exp_2022-05',\n",
       "  'exp_2022-03'],\n",
       " ['exp_2022_19_04_nsom',\n",
       "  'exp_2022_22_04_nsom',\n",
       "  'exp_2022_23_04_nsom',\n",
       "  'exp_2022_11_04_afm',\n",
       "  'exp_2022_06_04_afm',\n",
       "  'exp_2022_25_04_nsom',\n",
       "  'exp_2022_18_04_nsom',\n",
       "  'exp_2022_08_04_afm',\n",
       "  'exp_2022_01_04_afm',\n",
       "  'exp_2022_03_04_afm',\n",
       "  'exp_2022_20_04_nsom',\n",
       "  'exp_2022_07_04_afm',\n",
       "  'exp_2022_24_04_nsom',\n",
       "  'exp_2022_09_04_afm',\n",
       "  'exp_2022_15_04_nsom',\n",
       "  'exp_2022_10_04_afm',\n",
       "  'exp_2022_05_04_afm',\n",
       "  'exp_2022_02_04_afm'],\n",
       " [],\n",
       " [],\n",
       " [],\n",
       " [],\n",
       " [],\n",
       " [],\n",
       " [],\n",
       " [],\n",
       " [],\n",
       " [],\n",
       " [],\n",
       " [],\n",
       " [],\n",
       " [],\n",
       " [],\n",
       " [],\n",
       " [],\n",
       " [],\n",
       " ['exp_2022_14_01_afm', 'exp_2022_19_01_afm', 'exp_2022_13_01_afm'],\n",
       " [],\n",
       " [],\n",
       " [],\n",
       " ['exp_2022_9_09_afm', 'exp_2022_8_09_afm'],\n",
       " [],\n",
       " [],\n",
       " ['exp_06-11_afm', 'exp_04-11_afm'],\n",
       " [],\n",
       " [],\n",
       " ['exp_2022_09_05_nsom',\n",
       "  'exp_2022_11_05_nsom',\n",
       "  'exp_2022_07_05_nsom',\n",
       "  'exp_2022_06_05_nsom'],\n",
       " [],\n",
       " [],\n",
       " [],\n",
       " [],\n",
       " ['exp_2022_24_03_afm',\n",
       "  'exp_2022_31_03_afm',\n",
       "  'exp_2022_19_03_afm',\n",
       "  'exp_2022_21_03_afm',\n",
       "  'exp_2022_26_03_afm',\n",
       "  'exp_2022_30_03_afm',\n",
       "  'exp_2022_28_03_afm',\n",
       "  'exp_2022_22_03_afm'],\n",
       " [],\n",
       " [],\n",
       " [],\n",
       " [],\n",
       " [],\n",
       " [],\n",
       " [],\n",
       " []]"
      ]
     },
     "execution_count": 12,
     "metadata": {},
     "output_type": "execute_result"
    }
   ],
   "source": [
    "import streamlit as st\n",
    "import pandas as pd\n",
    "import numpy as np\n",
    "import matplotlib.pyplot as plt\n",
    "import requests, os\n",
    "import h5py as h5\n",
    "import glob\n",
    "from os import walk\n",
    "import time\n",
    "from matplotlib.gridspec import GridSpec\n",
    "from labexp import experiments,nano_lab\n",
    "from mpl_toolkits.axes_grid1 import make_axes_locatable,ImageGrid, AxesGrid\n",
    "from matplotlib.gridspec import GridSpec\n",
    "import matplotlib as mpl\n",
    "plt.style.use('/media/labfiles/lab-codes/puppy-project/src/plotstyle.mplstyle')\n",
    "\n",
    "\n",
    "data =experiments('nano-lab','nsom','grating_InP',False)\n",
    "\n",
    "data.data\n"
   ]
  }
 ],
 "metadata": {
  "kernelspec": {
   "display_name": "Python 3.10.4 ('analysis')",
   "language": "python",
   "name": "python3"
  },
  "language_info": {
   "codemirror_mode": {
    "name": "ipython",
    "version": 3
   },
   "file_extension": ".py",
   "mimetype": "text/x-python",
   "name": "python",
   "nbconvert_exporter": "python",
   "pygments_lexer": "ipython3",
   "version": "3.10.4"
  },
  "orig_nbformat": 4,
  "vscode": {
   "interpreter": {
    "hash": "df25c19a347952bfe2454233f6a75c22b3faf5a612c0c19bb8226f0bd8aea55f"
   }
  }
 },
 "nbformat": 4,
 "nbformat_minor": 2
}
